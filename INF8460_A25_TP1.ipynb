{
 "cells": [
  {
   "cell_type": "markdown",
   "metadata": {
    "id": "qoFsnEDqd_66"
   },
   "source": [
    "# INF8460 – Traitement automatique de la langue naturelle - Automne 2025\n",
    "\n",
    "# TP1: Plongements lexicaux avec Skip-Gram with Negative Sampling (SGNS) (100 points)"
   ]
  },
  {
   "cell_type": "markdown",
   "metadata": {
    "id": "-GB9fZjB_R0s"
   },
   "source": [
    "## Identification de l'équipe"
   ]
  },
  {
   "cell_type": "markdown",
   "metadata": {
    "id": "u6Nki9zZVpBz"
   },
   "source": [
    "### Groupe de laboratoire:\n",
    "\n",
    "### Equipe numéro:\n",
    "\n",
    "### Membres:\n",
    "\n",
    "- membre 1 (% de contribution, nature de la contribution)\n",
    "- membre 2 (% de contribution, nature de la contribution)\n",
    "- membre 3 (% de contribution, nature de la contribution)\n",
    "\n",
    "**Nature de la contribution:** Décrivez brièvement ce qui a été fait par chaque membre de l’équipe. Tous les membres sont censés contribuer au développement. Bien que chaque membre puisse effectuer différentes tâches, vous devez vous efforcer d’obtenir une répartition égale du travail. Soyez précis ! N'indiquez pas seulement : travail réparti équitablement."
   ]
  },
  {
   "cell_type": "markdown",
   "metadata": {
    "id": "VTE4p_GIYeTl"
   },
   "source": [
    "## Usage des LLMs"
   ]
  },
  {
   "cell_type": "markdown",
   "metadata": {
    "id": "iF-KrVb0YooI"
   },
   "source": [
    "Notez que l'usage des LLMs est strictement prohibé.\n",
    "\n",
    "Vous devez masquer les fonctionnalités d'IA générative dans les paramètres de Colab (Paramètres -> Assistance IA).\n",
    "\n",
    "Même si cela demande plus d'effort et de temps, la résolution des TPs par vos propres moyens vous permettra d'acquérir toutes les compétences en TALN pour vos travaux futurs. Nous incluerons des questions de code des TPs dans l'examen final et considérerons toute utilisation de LLM comme un cas de plagiat.\n"
   ]
  },
  {
   "cell_type": "markdown",
   "metadata": {
    "id": "X9CqBWhEuyP2"
   },
   "source": [
    "## Introduction (5 points)"
   ]
  },
  {
   "cell_type": "markdown",
   "metadata": {
    "id": "UM_tGVTRdMuR"
   },
   "source": [
    "Dans ce TP, vous allez implémenter et entraîner **votre propre modèle Word2Vec**, en particulier la variante **Skip-Gram avec échantillonnage négatif** (SGNS). Ce modèle apprend à représenter chaque mot sous forme d’un vecteur dense (aussi appelé embedding ou plongement), de telle sorte que les **mots apparaissant dans des contextes similaires aient des vecteurs proches** dans l’espace vectoriel.\n",
    "\n",
    "L’objectif est double :\n",
    "\n",
    "**Comprendre et coder l’algorithme SGNS** depuis zéro, afin de maîtriser les principes qui sous-tendent l’apprentissage des représentations de mots.\n",
    "\n",
    "**Explorer la géométrie des vecteurs appris**, à travers une série d’expériences qui mettent en lumière des propriétés émergentes souvent ignorées.\n",
    "\n",
    "Le TP est divisé en 6 sections avec un total de 100 points :\n",
    "\n",
    "0. **Introduction (5 points)**\n",
    "\n",
    "Présentation du TP et questions préliminaires.\n",
    "\n",
    "1. **Préparation des données et analyses préliminaires (20 points)**\n",
    "\n",
    "Vous commencerez par charger un sous-ensemble de Wikipédia et analyser ses statistiques : taille du vocabulaire, loi de Zipf, etc. Vous manipulerez également un jeu de données de similarité (SimLex-999) pour évaluer vos plongements plus tard.\n",
    "\n",
    "2. **Implémentation du modèle SGNS (25 points)**\n",
    "\n",
    "Vous construirez le cœur du modèle :\n",
    "\n",
    "* Une classe pour générer les paires mot-contexte (jeu de données)\n",
    "* Une architecture PyTorch du modèle SGNS\n",
    "* Une boucle d’entraînement avec sauvegarde automatique des poids\n",
    "\n",
    "3. **Comparaison avec GloVE (20 points)**\n",
    "\n",
    "Une fois le modèle entraîné, vous évaluerez la qualité des plongements produits et les comparerez avec des embeddings GloVE :\n",
    "\n",
    "* En mesurant la similarité sémantique (cosinus, analogies),\n",
    "* En représentant des concepts dans un plan 2D via PCA pour détecter des structures géométriques intéressantes.\n",
    "\n",
    "4. **Études des relations géométriques entre les embeddings (15 points)**\n",
    "\n",
    "Vous évaluerez les propriétes géométriques des relations sémantiques et syntaxiques à l'aide d'un jeu de données d'analogies.\n",
    "\n",
    "5. **Étude approfondie de la géométrie des embeddings SGNS (15 points)**\n",
    "\n",
    "Dans cette dernière partie, vous réaliserez plusieurs expériences empiriques pour analyser finement **l'organisation spatiale des vecteurs SGNS**, notamment leur alignement global en fonction de la fréquence des mots.\n"
   ]
  },
  {
   "cell_type": "markdown",
   "metadata": {
    "id": "NXWmPYQ4QzFw"
   },
   "source": [
    "---\n",
    "### Fichiers du TP\n",
    "\n",
    "* **data** : contient tous les jeux de données et les embeddings utilisés pour le TP1.\n",
    "    * **analogies** : jeu de données d'analogies sémantiques et syntaxiques pour l'évaluation.\n",
    "    * **glove_data** : embeddings GloVe téléchargés en ligne.\n",
    "    * **SimLex-999** : jeu de données de similarité de mots pour l'évaluation.\n",
    "    * **wikipedia_corpus** : extrait de Wikipédia utilisé pour l'entraînement."
   ]
  },
  {
   "cell_type": "markdown",
   "metadata": {
    "id": "H5CCUG94pcyN"
   },
   "source": [
    "---\n",
    "### Présentation du modèle SGNS (Skip-Gram with Negative Sampling)\n",
    "\n",
    "Le modèle **SGNS** appartient à la famille **Word2Vec**, conçu pour apprendre des représentations vectorielles de mots à partir de grands corpus textuels. L’idée centrale est d’entraîner un modèle qui, à partir d’un mot donné, **prédit ses mots contextuels voisins** (skip-gram, à l'inverse de CBOW).\n",
    "\n",
    "### Architecture simplifiée\n",
    "\n",
    "- **Entrée :** un mot cible (sous forme one-hot, ou encodée en entier)\n",
    "- **Sortie :** probabilité qu'un mot soit dans le contexte du mot cible\n",
    "- **Réseau :** une couche d’embedding en entrée et en sortie (deux matrices à apprendre)\n",
    "\n",
    "### Éléments clés\n",
    "\n",
    "1. **Fenêtre de contexte :**\n",
    "   Pour chaque mot, on considère les mots adjacents dans une fenêtre de taille fixe (ex: ±2 mots).\n",
    "\n",
    "2. **Échantillonnage négatif (negative sampling) :**\n",
    "   Au lieu de prédire une probabilité pour tous les mots du vocabulaire, on ne prend que quelques mots de contexte “faux” (négatifs), en plus du \"vrai\" mot de contexte. Les négatifs sont tirés selon une distribution de bruit particulière.\n",
    "\n",
    "3. **Objectif :**\n",
    "   Maximiser la probabilité des mots contextuels corrects et **minimiser celle des mots négatifs**.\n",
    "   Le tout est formulé comme une tâche de classification binaire :\n",
    "\n",
    "   $$\n",
    "   \\log \\sigma(\\mathbf{v}_{w_i} \\cdot \\mathbf{v}_{w_j}) + \\sum_{k=1}^{K} \\mathbb{E}_{w_k \\sim P_n(w)} [\\log \\sigma(-\\mathbf{v}_{w_i} \\cdot \\mathbf{v}_{w_k})]\n",
    "   $$\n",
    "\n",
    "   - $w_i$ : mot central\n",
    "   - $w_j$ : mot contexte\n",
    "   - $w_k$ : mot négatif\n",
    "   - $\\mathbf{v}_{w_x}$ : embedding d'un mot\n",
    "   - $\\sigma$ : fonction sigmoïde\n",
    "   - $K$ : nombre d’échantillons négatifs\n",
    "   - $P_n(w)$ : distribution de bruit (souvent la fréquence des mots à la puissance 0.75)"
   ]
  },
  {
   "cell_type": "markdown",
   "metadata": {
    "id": "S-uUHiUBSrFw"
   },
   "source": [
    "---\n",
    "### Questions préliminaires (5 points)"
   ]
  },
  {
   "cell_type": "markdown",
   "metadata": {
    "id": "81XXVeuxf8a_"
   },
   "source": [
    "\n",
    "**Q-0.1 (2 points) Sans negative sampling, comment se passerait la prédiction d’un mot de contexte dans un vocabulaire de taille $V$ ?**\n",
    "\n",
    "**Q-0.2 (1 point) Que fait le negative sampling à la place ?**\n",
    "\n",
    "\n",
    "**Q-0.3 (1 point) En vous basant sur la fonction objective, quel est le but du modèle SGNS ?**\n",
    "\n",
    "\n",
    "**Q-0.4 (1 point) Comment cela se traduit géométriquement ?**"
   ]
  },
  {
   "cell_type": "markdown",
   "metadata": {
    "id": "YnXh4vdE5wnR"
   },
   "source": [
    "---\n",
    "## Préparation de l'environnement (0 point)"
   ]
  },
  {
   "cell_type": "markdown",
   "metadata": {
    "id": "c_JGK3uFjHzs"
   },
   "source": [
    "Connexion à Google Drive"
   ]
  },
  {
   "cell_type": "code",
   "execution_count": 3,
   "metadata": {
    "colab": {
     "base_uri": "https://localhost:8080/"
    },
    "executionInfo": {
     "elapsed": 25567,
     "status": "ok",
     "timestamp": 1754406013346,
     "user": {
      "displayName": "Alexis Brissard",
      "userId": "01552848406770931061"
     },
     "user_tz": 240
    },
    "id": "7ljm9ApdPaTy",
    "outputId": "bc4b1eb8-3f71-4336-d11b-aadaedf148de"
   },
   "outputs": [],
   "source": [
    "# from google.colab import drive\n",
    "# drive.mount('/content/drive')"
   ]
  },
  {
   "cell_type": "code",
   "execution_count": 4,
   "metadata": {},
   "outputs": [
    {
     "name": "stdout",
     "output_type": "stream",
     "text": [
      "torch: 2.7.1+cu118\n",
      "torchvision: 0.22.1+cu118\n",
      "CUDA available: True\n",
      "Device: NVIDIA GeForce RTX 4060 Laptop GPU\n"
     ]
    }
   ],
   "source": [
    "import torch, torchvision\n",
    "print(\"torch:\", torch.__version__)\n",
    "print(\"torchvision:\", torchvision.__version__)\n",
    "print(\"CUDA available:\", torch.cuda.is_available())\n",
    "if torch.cuda.is_available():\n",
    "    print(\"Device:\", torch.cuda.get_device_name(0))"
   ]
  },
  {
   "cell_type": "code",
   "execution_count": 5,
   "metadata": {},
   "outputs": [],
   "source": [
    "import os\n",
    "os.environ[\"CUDA_LAUNCH_BLOCKING\"] = \"1\"  \n",
    "torch.backends.cudnn.enabled = False      \n"
   ]
  },
  {
   "cell_type": "markdown",
   "metadata": {
    "id": "WB6OeDhLjMaS"
   },
   "source": [
    "Définition du dossier de travail"
   ]
  },
  {
   "cell_type": "code",
   "execution_count": 6,
   "metadata": {
    "executionInfo": {
     "elapsed": 451,
     "status": "ok",
     "timestamp": 1754406013793,
     "user": {
      "displayName": "Alexis Brissard",
      "userId": "01552848406770931061"
     },
     "user_tz": 240
    },
    "id": "dv43CX13ftbQ"
   },
   "outputs": [],
   "source": [
    "# #@markdown Enter the path to the assignment folder in your Google Drive\n",
    "\n",
    "# import warnings\n",
    "# import os\n",
    "# import sys\n",
    "\n",
    "# folder = \"/content/drive/MyDrive/NLP/TP1\" #@param {type:\"string\"}\n",
    "\n",
    "# # Add the assignment folder to Python path\n",
    "# if folder not in sys.path:\n",
    "#   sys.path.insert(0, folder)\n",
    "\n",
    "# #changer le repertoire courant\n",
    "# os.chdir(folder)"
   ]
  },
  {
   "cell_type": "markdown",
   "metadata": {
    "id": "kEoXX2dSjQah"
   },
   "source": [
    "Importation des bibliothèques"
   ]
  },
  {
   "cell_type": "code",
   "execution_count": 7,
   "metadata": {
    "executionInfo": {
     "elapsed": 5829,
     "status": "ok",
     "timestamp": 1754406019625,
     "user": {
      "displayName": "Alexis Brissard",
      "userId": "01552848406770931061"
     },
     "user_tz": 240
    },
    "id": "c4oktg3V4tGI"
   },
   "outputs": [],
   "source": [
    "import collections\n",
    "import glob\n",
    "import numpy as np\n",
    "import pandas as pd\n",
    "import pickle\n",
    "import random\n",
    "import time\n",
    "import torch\n",
    "import torch.nn as nn\n",
    "\n",
    "import matplotlib.cm as cm\n",
    "import matplotlib.pyplot as plt\n",
    "\n",
    "from dataclasses import dataclass\n",
    "from scipy.stats import gaussian_kde, spearmanr\n",
    "from sklearn.decomposition import PCA\n",
    "from torch.utils.data import DataLoader, IterableDataset\n",
    "from tqdm import tqdm"
   ]
  },
  {
   "cell_type": "markdown",
   "metadata": {
    "id": "b_9o5iiUjTKG"
   },
   "source": [
    "Définition du `device`"
   ]
  },
  {
   "cell_type": "code",
   "execution_count": 8,
   "metadata": {
    "colab": {
     "base_uri": "https://localhost:8080/"
    },
    "executionInfo": {
     "elapsed": 33,
     "status": "ok",
     "timestamp": 1754406019653,
     "user": {
      "displayName": "Alexis Brissard",
      "userId": "01552848406770931061"
     },
     "user_tz": 240
    },
    "id": "P3vyB4Qm6P1E",
    "outputId": "b2fe30df-e7d3-4e4a-ba5f-c53fdf7fc30e"
   },
   "outputs": [
    {
     "name": "stdout",
     "output_type": "stream",
     "text": [
      "device : cuda\n"
     ]
    }
   ],
   "source": [
    "if not torch.cuda.is_available():\n",
    "  warnings.warn('CUDA is not available.')\n",
    "\n",
    "device = torch.device(\"cuda\" if torch.cuda.is_available() else \"cpu\")\n",
    "print(f\"device : {device}\")"
   ]
  },
  {
   "cell_type": "markdown",
   "metadata": {
    "id": "S-AZcN2L5b9J"
   },
   "source": [
    "---\n",
    "## 1. Préparation des données et premières analyses (20 points)"
   ]
  },
  {
   "cell_type": "markdown",
   "metadata": {
    "id": "FMxolcf4MU1b"
   },
   "source": [
    "\n",
    "- Définition de la classe d'arguments du modèle SGNS pour la suite du TP\n",
    "- Importation du dataset `wikipedia` pour l'entraînement\n",
    "  - Nombre total de mots dans le corpus  \n",
    "  - Taille du vocabulaire  \n",
    "  - Vérification empirique de la loi de Zipf\n",
    "- Chargement du dataset `Sim-Lex-999` pour l'évaluation des embbedings"
   ]
  },
  {
   "cell_type": "markdown",
   "metadata": {
    "id": "iU6lw7pRjq_3"
   },
   "source": [
    "### 1.1 Définition de la classe d'arguments du modèle SGNS pour la suite du TP (0 point)"
   ]
  },
  {
   "cell_type": "markdown",
   "metadata": {
    "id": "_JROTNoqt_L2"
   },
   "source": [
    "`args = SGNSArgs()` contient toutes les variables que nous allons utiliser pour entraîner notre modèle.\n",
    "\n",
    "Vous pouvez y penser comme une alternative aux variables globales."
   ]
  },
  {
   "cell_type": "code",
   "execution_count": 9,
   "metadata": {
    "executionInfo": {
     "elapsed": 4,
     "status": "ok",
     "timestamp": 1754406019658,
     "user": {
      "displayName": "Alexis Brissard",
      "userId": "01552848406770931061"
     },
     "user_tz": 240
    },
    "id": "Bdhm6nhgCg1T"
   },
   "outputs": [],
   "source": [
    "@dataclass\n",
    "class SGNSArgs:\n",
    "    max_vocab_size: int = 30_000 # taille maximale du vocabulaire, afin de limiter la durée d'entraînement\n",
    "    embedding_dim: int = 50      # dimension de l'embedding\n",
    "    window_size: int = 5         # taille de la fenêtre contextuelle\n",
    "    neg_samples: int = 5         # nombre de mots négatifs pour chaque centre\n",
    "    batch_size: int = 8192       # taille de la batch\n",
    "    lr: float = 0.003            # taux d'apprentissage (learning rate)\n",
    "    epochs: int = 15             # nombre d'époques d'entraînement\n",
    "    nb_first: int = -1           # nombre de mots du corpus utilisés pour l'entraînement (-1 pour utiliser tout le corpus)\n",
    "\n",
    "\n",
    "    def model_name(self):\n",
    "        return f\"sgns_voc{self.max_vocab_size}_emb{self.embedding_dim}_win{self.window_size}_neg{self.neg_samples}_bs{self.batch_size}_lr{self.lr}_e{self.epochs}_n{self.nb_first}\"\n",
    "\n",
    "args = SGNSArgs()"
   ]
  },
  {
   "cell_type": "markdown",
   "metadata": {
    "id": "XB8oxWfhj2UJ"
   },
   "source": [
    "### 1.2 Importation et pré-traitement du corpus d'entraînement (4 points)"
   ]
  },
  {
   "cell_type": "markdown",
   "metadata": {
    "id": "kCgeSpGefbsa"
   },
   "source": [
    "Pour l'entraînement, nous allons utiliser un corpus d'articles de Wikipédia en langue anglaise couramment utilisé pour entraîner les modèles d'embeddings."
   ]
  },
  {
   "cell_type": "code",
   "execution_count": 10,
   "metadata": {
    "colab": {
     "base_uri": "https://localhost:8080/"
    },
    "executionInfo": {
     "elapsed": 3133,
     "status": "ok",
     "timestamp": 1754406022795,
     "user": {
      "displayName": "Alexis Brissard",
      "userId": "01552848406770931061"
     },
     "user_tz": 240
    },
    "id": "Jx6rAEJuOaJN",
    "outputId": "c0f93e4b-78ba-4c8c-e4d5-173683bc8baa"
   },
   "outputs": [
    {
     "name": "stdout",
     "output_type": "stream",
     "text": [
      "First 1000 characters:\n",
      " anarchism originated as a term of abuse first used against early working class radicals including the diggers of the english revolution and the sans culottes of the french revolution whilst the term is still used in a pejorative way to describe any act that used violent means to destroy the organization of society it has also been taken up as a positive label by self defined anarchists the word anarchism is derived from the greek without archons ruler chief king anarchism as a political philosophy is the belief that rulers are unnecessary and should be abolished although there are differing interpretations of what this means anarchism also refers to related social movements that advocate the elimination of authoritarian institutions particularly the state the word anarchy as most anarchists use it does not imply chaos nihilism or anomie but rather a harmonious anti authoritarian society in place of what are regarded as authoritarian political structures and coercive economic instituti\n"
     ]
    }
   ],
   "source": [
    "with open(f\"data/wikipedia_corpus.txt\", \"r\", encoding=\"utf-8\") as f:\n",
    "    dataset = f.read()\n",
    "\n",
    "print(f\"First 1000 characters:\\n{dataset[:1000]}\")"
   ]
  },
  {
   "cell_type": "markdown",
   "metadata": {
    "id": "VeTPKMmIkEC8"
   },
   "source": [
    "**Q-1.2.1 (3 points) En regardant les données du corpus, donnez 3 étapes de pré-traitement qui semblent déjà avoir été appliquées.**"
   ]
  },
  {
   "cell_type": "markdown",
   "metadata": {},
   "source": [
    "- 1) minuscule\n",
    "- 2) Suppression de la ponctuation et des caractères spéciaux\n",
    "- 3) nettoyage des balises et métadonnées comme les liens "
   ]
  },
  {
   "cell_type": "markdown",
   "metadata": {
    "id": "wrah0PBDkEC8"
   },
   "source": [
    "**Q-1.2.2 (1 point) Effectuez les  étapes de prétraitement restantes: Segmentez le dataset en jetons et enlevez les mots vides (stop words). Dans notre cas 1 jeton = 1 mot.**"
   ]
  },
  {
   "cell_type": "code",
   "execution_count": 11,
   "metadata": {
    "executionInfo": {
     "elapsed": 1187,
     "status": "ok",
     "timestamp": 1754406077365,
     "user": {
      "displayName": "Alexis Brissard",
      "userId": "01552848406770931061"
     },
     "user_tz": 240
    },
    "id": "NgDjjGT4kEC8"
   },
   "outputs": [
    {
     "name": "stdout",
     "output_type": "stream",
     "text": [
      "17005207\n",
      "12011324\n"
     ]
    }
   ],
   "source": [
    "stop_words = {\n",
    "        'the', 'a', 'an', 'and', 'or', 'but', 'in', 'on', 'at', 'to', 'for', 'of', 'with',\n",
    "        'by', 'is', 'are', 'was', 'were', 'be', 'been', 'being', 'have', 'has', 'had',\n",
    "        'do', 'does', 'did', 'will', 'would', 'could', 'should', 'may', 'might', 'must',\n",
    "        'i', 'you', 'he', 'she', 'it', 'we', 'they', 'me', 'him', 'her', 'us', 'them',\n",
    "        'my', 'your', 'his', 'her', 'its', 'our', 'their', 'this', 'that', 'these', 'those'\n",
    "    }\n",
    "\n",
    "### TODO ###\n",
    "#split le dataset en jetons par espace \n",
    "jetons = dataset.split()\n",
    "#enlever les stop_words de la liste de jetons\n",
    "jetons_clear = [tok for tok in jetons if tok not in stop_words]\n",
    "print(len(jetons))\n",
    "print(len(jetons_clear))\n",
    "\n",
    "### END TODO ###"
   ]
  },
  {
   "cell_type": "markdown",
   "metadata": {
    "id": "gIkGbwzSkEC8"
   },
   "source": [
    "### 1.3 Analyses statistiques préliminaires (9 points)"
   ]
  },
  {
   "cell_type": "markdown",
   "metadata": {
    "id": "VoXUjoCGWPg6"
   },
   "source": [
    "\n",
    "Avant d’entraîner un modèle, il est essentiel de bien comprendre le contenu du corpus.\n",
    "\n",
    "Dans cette cellule, vous allez réaliser une brève analyse statistique du texte brut.\n",
    "\n",
    "**Q-1.3.1 (3 points) Affichez :**\n",
    "- **le nombre total de jetons,**\n",
    "- **le nombre de types (nombre de jetons distincts),**\n",
    "- **les 20 jetons les plus fréquents, avec leur nombre d'occurences.**"
   ]
  },
  {
   "cell_type": "code",
   "execution_count": 12,
   "metadata": {
    "colab": {
     "base_uri": "https://localhost:8080/"
    },
    "executionInfo": {
     "elapsed": 71,
     "status": "ok",
     "timestamp": 1754406082766,
     "user": {
      "displayName": "Alexis Brissard",
      "userId": "01552848406770931061"
     },
     "user_tz": 240
    },
    "id": "NbpBxP7R4L1F",
    "outputId": "9dfea9b6-a758-4f83-dd81-1f4c30556bda"
   },
   "outputs": [
    {
     "name": "stdout",
     "output_type": "stream",
     "text": [
      "le nombre total de jetons est de : 12011324\n",
      "le nombre de types est de : 253798 \n"
     ]
    },
    {
     "data": {
      "text/plain": [
       "jetons\n",
       "one      411764\n",
       "zero     264975\n",
       "nine     250430\n",
       "two      192644\n",
       "as       131815\n",
       "eight    125285\n",
       "s        116710\n",
       "five     115789\n",
       "three    114775\n",
       "four     108182\n",
       "six      102145\n",
       "seven     99683\n",
       "from      72871\n",
       "which     54788\n",
       "also      44358\n",
       "not       44033\n",
       "other     32433\n",
       "first     28810\n",
       "some      28161\n",
       "all       26229\n",
       "Name: jetons, dtype: int64"
      ]
     },
     "execution_count": 12,
     "metadata": {},
     "output_type": "execute_result"
    }
   ],
   "source": [
    "### TODO ###\n",
    "vocab = len(jetons_clear)\n",
    "print(f\"le nombre total de jetons est de : {vocab}\")\n",
    "unique_jetons = len(list(set(jetons_clear)))\n",
    "print(f\"le nombre de types est de : {unique_jetons} \" )\n",
    "df = pd.DataFrame(jetons_clear,columns=[\"jetons\"])\n",
    "df.groupby(\"jetons\")['jetons'].count().sort_values(ascending=False).head(20)\n",
    "\n",
    "### END TODO ###"
   ]
  },
  {
   "cell_type": "markdown",
   "metadata": {
    "id": "XdPoMV0ETWL3"
   },
   "source": [
    "La [**loi de Zipf**](https://en.wikipedia.org/wiki/Zipf%27s_law) est une loi valide pour tous les corpus de texte en language naturel.\n",
    "Elle prédit que le mot le plus courant apparaît environ deux fois plus souvent que le deuxième plus courant, trois fois plus souvent que le troisième plus courant, et ainsi de suite.\n",
    "Plus formellement, la fréquence $f$ d’un mot est inversement proportionnelle à son rang $r$:\n",
    "\n",
    "$$\n",
    "f(r) \\propto \\frac{1}{r^\\alpha}, \\text{ avec souvent } \\alpha \\approx 1\n",
    "$$\n",
    "\n",
    "**Q-1.3.2 (2 points) Vérifiez que le corpus suit la loi de Zipf. Pour cela, tracez la fréquence des mots en fonction de leur rang, en échelle logarithmique pour les deux axes (`log-log`).**"
   ]
  },
  {
   "cell_type": "code",
   "execution_count": 13,
   "metadata": {
    "colab": {
     "base_uri": "https://localhost:8080/",
     "height": 569
    },
    "executionInfo": {
     "elapsed": 4210,
     "status": "ok",
     "timestamp": 1752648635007,
     "user": {
      "displayName": "Alexis Brissard",
      "userId": "01552848406770931061"
     },
     "user_tz": 240
    },
    "id": "OOd0XF_oTjjA",
    "outputId": "c2e292f5-2df3-4d54-e892-cd0df959f326"
   },
   "outputs": [
    {
     "data": {
      "text/html": [
       "<div>\n",
       "<style scoped>\n",
       "    .dataframe tbody tr th:only-of-type {\n",
       "        vertical-align: middle;\n",
       "    }\n",
       "\n",
       "    .dataframe tbody tr th {\n",
       "        vertical-align: top;\n",
       "    }\n",
       "\n",
       "    .dataframe thead th {\n",
       "        text-align: right;\n",
       "    }\n",
       "</style>\n",
       "<table border=\"1\" class=\"dataframe\">\n",
       "  <thead>\n",
       "    <tr style=\"text-align: right;\">\n",
       "      <th></th>\n",
       "      <th>jetons</th>\n",
       "      <th>frequence</th>\n",
       "      <th>rang</th>\n",
       "    </tr>\n",
       "  </thead>\n",
       "  <tbody>\n",
       "    <tr>\n",
       "      <th>0</th>\n",
       "      <td>one</td>\n",
       "      <td>411764</td>\n",
       "      <td>1</td>\n",
       "    </tr>\n",
       "    <tr>\n",
       "      <th>1</th>\n",
       "      <td>zero</td>\n",
       "      <td>264975</td>\n",
       "      <td>2</td>\n",
       "    </tr>\n",
       "    <tr>\n",
       "      <th>2</th>\n",
       "      <td>nine</td>\n",
       "      <td>250430</td>\n",
       "      <td>3</td>\n",
       "    </tr>\n",
       "    <tr>\n",
       "      <th>3</th>\n",
       "      <td>two</td>\n",
       "      <td>192644</td>\n",
       "      <td>4</td>\n",
       "    </tr>\n",
       "    <tr>\n",
       "      <th>4</th>\n",
       "      <td>as</td>\n",
       "      <td>131815</td>\n",
       "      <td>5</td>\n",
       "    </tr>\n",
       "  </tbody>\n",
       "</table>\n",
       "</div>"
      ],
      "text/plain": [
       "  jetons  frequence  rang\n",
       "0    one     411764     1\n",
       "1   zero     264975     2\n",
       "2   nine     250430     3\n",
       "3    two     192644     4\n",
       "4     as     131815     5"
      ]
     },
     "execution_count": 13,
     "metadata": {},
     "output_type": "execute_result"
    }
   ],
   "source": [
    "### TODO ###\n",
    "#cree la df pour les frequences\n",
    "df_freq = df.groupby(\"jetons\").agg(frequence=('jetons', 'count')).sort_values(by='frequence', ascending=False).reset_index()\n",
    "# ajouter la column du rang\n",
    "df_freq['rang'] = df_freq.index + 1\n",
    "df_freq.head()\n",
    "### END TODO ###"
   ]
  },
  {
   "cell_type": "code",
   "execution_count": 14,
   "metadata": {},
   "outputs": [
    {
     "data": {
      "image/png": "[encoded data removed]",
      "text/plain": [
       "<Figure size 1000x500 with 1 Axes>"
      ]
     },
     "metadata": {},
     "output_type": "display_data"
    }
   ],
   "source": [
    "#plot la courbe grace a matplotlib\n",
    "plt.figure(figsize=(10, 5))\n",
    "#utlilisant le log de la freq et du rang\n",
    "plt.loglog(df_freq['rang'], df_freq['frequence'], marker='o', linestyle='--')\n",
    "\n",
    "plt.title(\"Loi de Zipf - Fréquence des mots en fonction de leur rang\")\n",
    "plt.xlabel(\"Rang des mots (log)\")\n",
    "plt.ylabel(\"Fréquence des mots (log)\")\n",
    "plt.grid(True, which=\"both\", ls=\"--\")\n",
    "\n",
    "plt.show()"
   ]
  },
  {
   "cell_type": "markdown",
   "metadata": {
    "id": "Qtndn19Yq1ew"
   },
   "source": [
    "**Q-1.3.3 (1 point) Qu'indique l'obtention d'une courbe linéaire ?**"
   ]
  },
  {
   "cell_type": "markdown",
   "metadata": {},
   "source": [
    "- cela indique que le corpus suit aproximativement la loi de zipf"
   ]
  },
  {
   "cell_type": "markdown",
   "metadata": {},
   "source": [
    "**Q-1.3.4 (1 point) À quoi correspond la valeur de la pente de la courbe dans l'expression mathématique de la loi de Zipf ?**"
   ]
  },
  {
   "cell_type": "markdown",
   "metadata": {},
   "source": [
    "- La pente de la courbe dans l'expression mathématique de la loi de Zipf correspond à l'exposant de la loi de puissance, qui indique le taux de décroissance de la fréquence des mots en fonction de leur rang"
   ]
  },
  {
   "cell_type": "markdown",
   "metadata": {
    "id": "ry0k9sykvkeZ"
   },
   "source": [
    "**Q-1.3.5 (1 point) Que signifie la valeur de la pente en pratique ?**"
   ]
  },
  {
   "cell_type": "code",
   "execution_count": 15,
   "metadata": {},
   "outputs": [
    {
     "name": "stdout",
     "output_type": "stream",
     "text": [
      "La pente de la droite est : -1.5327\n"
     ]
    }
   ],
   "source": [
    "# Calculer les logarithmes des rangs et des fréquences\n",
    "log_rang = np.log(df_freq['rang'])\n",
    "log_frequence = np.log(df_freq['frequence'])\n",
    "\n",
    "# Effectuer la régression linéaire sur les données log-transformées\n",
    "# deg=1 pour une régression linéaire\n",
    "coefficients = np.polyfit(log_rang, log_frequence, deg=1)\n",
    "\n",
    "# Le premier coefficient est la pente\n",
    "pente = coefficients[0]\n",
    "\n",
    "print(f\"La pente de la droite est : {pente:.4f}\")"
   ]
  },
  {
   "cell_type": "markdown",
   "metadata": {},
   "source": [
    "- Une pente de-1.5327 signifie que la fréquence des mots du corpus décroît plus rapidement que celle d'un corpus standard qui suit la loi de Zipf avec une pente de -1."
   ]
  },
  {
   "cell_type": "markdown",
   "metadata": {
    "id": "seyJrRvLvkem"
   },
   "source": [
    "**Q-1.3.6 (1 point) Que signifierait une pente plus / moins raide pour la distribution des mots dans le corpus ?**"
   ]
  },
  {
   "cell_type": "markdown",
   "metadata": {},
   "source": [
    "- cela signifie que le corpus une pente plus raide montre une inégalité plus marquée dans la distribution des mots peu de mots très fréquents, beaucoup de mots rares , tandis qu'une pente moins raide indique une distribution plus équilibrée , moins de domination des mots fréquents.\n"
   ]
  },
  {
   "cell_type": "markdown",
   "metadata": {},
   "source": [
    "- ici la pente de -1,52  indique une distribution des mots plus inégale qu'une pente standard de -1. Les mots très fréquents dominent fortement le corpus, avec une concentration marquée de leurs occurrences. Les mots moins fréquents de rang inférieur apparaissent encore plus rarement, suggérant une diversité lexicale réduite."
   ]
  },
  {
   "cell_type": "markdown",
   "metadata": {
    "id": "CphEJH0RtjQ0"
   },
   "source": [
    "### 1.4 Définition du vocabulaire et préparation du corpus pour l'entraînement (3 points)"
   ]
  },
  {
   "cell_type": "markdown",
   "metadata": {
    "id": "Xk4lZtETkEC9"
   },
   "source": [
    "**Q-1.4.1 (2 points) Associez chaque mot du vocabulaire à un identifiant entier unique, puis encodez le corpus sous forme de liste d’identifiants (IDs).**\n",
    "\n",
    "Vous devez :\n",
    "- définir le vocabulaire trié par fréquence décroissante. Il ne faut garder que les `args.max_vocab_size` mots les plus fréquents ;\n",
    "- construire un dictionnaire `word_to_id` qui associe chaque mot à un ID ;\n",
    "- construire le dictionnaire miroir `id_to_word` ;\n",
    "- réserver un ID spécial (`UNK_ID`) pour représenter tous les mots inconnus, c’est-à-dire ceux qui ne figurent pas dans les `max_vocab_size` mots les plus fréquents ;\n",
    "- encoder le corpus original en une liste d’IDs (`encoded_corpus`) en remplaçant chaque mot par son ID, ou par `UNK_ID` s’il est hors-vocabulaire.\n",
    "\n",
    "L’argument `args.nb_first` permet de tronquer la liste `encoded_corpus` aux `nb_first` premiers mots, pour ne travailler que sur un sous ensemble du corpus.\n",
    "\n",
    "```python\n",
    "word_to_id[\"one\"]      # 0\n",
    "encoded_corpus[:10]    # [5177, 3024, 4, 150, 3077, 17, 27, 115, 87, 687]\n",
    "```\n",
    "\n",
    "Cela permet de convertir efficacement le texte en une séquence d'entiers, exploitable pour l'entraînement du modèle."
   ]
  },
  {
   "cell_type": "code",
   "execution_count": 16,
   "metadata": {},
   "outputs": [
    {
     "data": {
      "text/html": [
       "<div>\n",
       "<style scoped>\n",
       "    .dataframe tbody tr th:only-of-type {\n",
       "        vertical-align: middle;\n",
       "    }\n",
       "\n",
       "    .dataframe tbody tr th {\n",
       "        vertical-align: top;\n",
       "    }\n",
       "\n",
       "    .dataframe thead th {\n",
       "        text-align: right;\n",
       "    }\n",
       "</style>\n",
       "<table border=\"1\" class=\"dataframe\">\n",
       "  <thead>\n",
       "    <tr style=\"text-align: right;\">\n",
       "      <th></th>\n",
       "      <th>jetons</th>\n",
       "      <th>frequence</th>\n",
       "      <th>rang</th>\n",
       "    </tr>\n",
       "  </thead>\n",
       "  <tbody>\n",
       "    <tr>\n",
       "      <th>0</th>\n",
       "      <td>one</td>\n",
       "      <td>411764</td>\n",
       "      <td>1</td>\n",
       "    </tr>\n",
       "    <tr>\n",
       "      <th>1</th>\n",
       "      <td>zero</td>\n",
       "      <td>264975</td>\n",
       "      <td>2</td>\n",
       "    </tr>\n",
       "    <tr>\n",
       "      <th>2</th>\n",
       "      <td>nine</td>\n",
       "      <td>250430</td>\n",
       "      <td>3</td>\n",
       "    </tr>\n",
       "    <tr>\n",
       "      <th>3</th>\n",
       "      <td>two</td>\n",
       "      <td>192644</td>\n",
       "      <td>4</td>\n",
       "    </tr>\n",
       "    <tr>\n",
       "      <th>4</th>\n",
       "      <td>as</td>\n",
       "      <td>131815</td>\n",
       "      <td>5</td>\n",
       "    </tr>\n",
       "  </tbody>\n",
       "</table>\n",
       "</div>"
      ],
      "text/plain": [
       "  jetons  frequence  rang\n",
       "0    one     411764     1\n",
       "1   zero     264975     2\n",
       "2   nine     250430     3\n",
       "3    two     192644     4\n",
       "4     as     131815     5"
      ]
     },
     "execution_count": 16,
     "metadata": {},
     "output_type": "execute_result"
    }
   ],
   "source": [
    "df_freq.head()"
   ]
  },
  {
   "cell_type": "code",
   "execution_count": 17,
   "metadata": {},
   "outputs": [
    {
     "name": "stdout",
     "output_type": "stream",
     "text": [
      "Using entire corpus.\n",
      "Encoded corpus size: 12011323\n",
      "0\n",
      "[5177, 3024, 4, 150, 3077, 17, 27, 115, 87, 687]\n"
     ]
    }
   ],
   "source": [
    "from collections import Counter\n",
    "# ID spécial pour les mots hors-vocabulaire\n",
    "UNK_TOKEN = \"<UNK>\"\n",
    "\n",
    "# 1) Fréquences\n",
    "freq = Counter(jetons_clear)\n",
    "\n",
    "# 2) Vocabulaire trié par fréquence décroissante (on garde les top-k)\n",
    "vocab_sorted = [w for w, c in freq.most_common(args.max_vocab_size)]\n",
    "\n",
    "# 3) Dictionnaires : les mots fréquents ont des IDs 0..K-1 ; UNK prend l'ID K\n",
    "word_to_id = {w: i for i, w in enumerate(vocab_sorted)}\n",
    "\n",
    "UNK_ID = len(vocab_sorted) \n",
    "word_to_id[UNK_TOKEN] = UNK_ID\n",
    "\n",
    "id_to_word = {i: w for w, i in word_to_id.items()}\n",
    "\n",
    "# 4) Encodage du corpus (OOV -> UNK_ID)\n",
    "encoded_corpus = [word_to_id.get(w, UNK_ID) for w in jetons_clear]\n",
    "\n",
    "# 5) Tronquage éventuel aux nb_first premiers IDs\n",
    "if getattr(args, \"nb_first\", None) is not None:\n",
    "    encoded_corpus = encoded_corpus[:args.nb_first]\n",
    "\n",
    "if args.nb_first > 0:\n",
    "  encoded_corpus = encoded_corpus[:args.nb_first]\n",
    "  print(f\"Corpus limited to the first {args.nb_first} words.\")\n",
    "else:\n",
    "  print(f\"Using entire corpus.\")\n",
    "\n",
    "print(f\"Encoded corpus size: {len(encoded_corpus)}\")\n",
    "print(word_to_id[\"one\"])\n",
    "print(encoded_corpus[:10])\n"
   ]
  },
  {
   "cell_type": "markdown",
   "metadata": {
    "id": "0xjlOBUekEC-"
   },
   "source": [
    "**Q-1.4.2 (1 point) Trouvez et affichez le premier mot du corpus sous l'ID du jeton `UNK_ID`.**"
   ]
  },
  {
   "cell_type": "code",
   "execution_count": 18,
   "metadata": {
    "colab": {
     "base_uri": "https://localhost:8080/"
    },
    "executionInfo": {
     "elapsed": 32,
     "status": "ok",
     "timestamp": 1754406130709,
     "user": {
      "displayName": "Alexis Brissard",
      "userId": "01552848406770931061"
     },
     "user_tz": 240
    },
    "id": "AiL1wBxUkEC-",
    "outputId": "a75b0881-7b38-4f44-9008-e5ef472775c7"
   },
   "outputs": [
    {
     "name": "stdout",
     "output_type": "stream",
     "text": [
      "culottes\n"
     ]
    }
   ],
   "source": [
    "### TODO ###\n",
    "first_unk_word = None\n",
    "\n",
    "for i, tid in enumerate(encoded_corpus):\n",
    "    if tid == UNK_ID:\n",
    "        first_unk_word = jetons_clear[i]\n",
    "        break\n",
    "\n",
    "# Affichage \n",
    "print(first_unk_word if first_unk_word is not None else \"aucun mot sous UNK_ID\")\n",
    "\n",
    "### END TODO ###"
   ]
  },
  {
   "cell_type": "markdown",
   "metadata": {
    "id": "vMjXMGpp8gtZ"
   },
   "source": [
    "### 1.5 Distribution des mots négatifs (4 points)"
   ]
  },
  {
   "cell_type": "markdown",
   "metadata": {
    "id": "N-Oo7XpwkEC-"
   },
   "source": [
    "Pour entraîner le modèle SGNS, nous aurons besoin de tirer des mots dits \"négatifs\", c’est-à-dire des mots sans lien avec le contexte du mot central.\n",
    "\n",
    "**Q-1.5.1 (2 points) Construisez une distribution de probabilité sur le vocabulaire selon la règle suivante :**\n",
    "- **chaque mot est pondéré selon sa fréquence élevée à la puissance $0.75$, comme suggéré dans l'article Word2Vec.**\n",
    "- **une petite probabilité (par exemple $10^{-6}$) est ajoutée pour le mot spécial `<UNK>` afin qu’il puisse également être tiré.**\n",
    "\n",
    "Cette distribution sera utilisée pour générer efficacement des exemples négatifs de qualité lors de l'entraînement du modèle."
   ]
  },
  {
   "cell_type": "code",
   "execution_count": 19,
   "metadata": {
    "executionInfo": {
     "elapsed": 380,
     "status": "ok",
     "timestamp": 1754406133600,
     "user": {
      "displayName": "Alexis Brissard",
      "userId": "01552848406770931061"
     },
     "user_tz": 240
    },
    "id": "LvArJKzRARvw"
   },
   "outputs": [],
   "source": [
    "### TODO ###\n",
    "epsilon = 1e-6\n",
    "\n",
    "# Count frequencies for each word ID in vocabulary\n",
    "word_counts = torch.zeros(vocab)\n",
    "for word_id in encoded_corpus:\n",
    "    if word_id < vocab:  \n",
    "        word_counts[word_id] += 1\n",
    "\n",
    "# Apply power 0.75\n",
    "weights = word_counts ** 0.75\n",
    "\n",
    "# Add small epsilon for UNK token \n",
    "weights[UNK_ID] = max(weights[UNK_ID], epsilon)\n",
    "\n",
    "# Normalize to get probability distribution\n",
    "unigram_dist = weights / weights.sum()\n",
    "unigram_dist = unigram_dist.to(device)"
   ]
  },
  {
   "cell_type": "markdown",
   "metadata": {
    "id": "HQFKQopfkEC-"
   },
   "source": [
    "**Q-1.5.2 (2 points) Pourquoi élève-t-on les fréquences à la puissance $0,75$ ?**"
   ]
  },
  {
   "cell_type": "markdown",
   "metadata": {},
   "source": [
    "- On utilise l’exposant 0,75 pour lisser la distribution des mots et obtenir un meilleur équilibre entre mots fréquents et rares lors de l’échantillonnage négatif, ce qui améliore l’entraînement des vecteurs de mots."
   ]
  },
  {
   "cell_type": "markdown",
   "metadata": {
    "id": "vhyeZt1u6RQF"
   },
   "source": [
    "---\n",
    "## 2. Implémentation et entraînement de SGNS (25 points)"
   ]
  },
  {
   "cell_type": "markdown",
   "metadata": {
    "id": "n9cOQv4Plwj0"
   },
   "source": [
    "### 2.1 `SGNSDataset` : génération des paires mot-contexte (4 points)"
   ]
  },
  {
   "cell_type": "markdown",
   "metadata": {
    "id": "kHw0xlWCkEC_"
   },
   "source": [
    "Nous allons construire un dataset SGNSDataset qui génère les paires (mot central, mot contexte) de manière itérative, en parcourant le corpus d'entraînement.\n",
    "\n",
    "Pour chaque position `i`, on prend comme contexte tous les mots situés dans une fenêtre de taille fixe `window_size` autour du mot central `encoded_text[i]`, à gauche et à droite (en excluant le mot lui-même).\n",
    "\n",
    "Lorsque `batch_size` paires sont collectées, on les retourne sous forme de deux tenseurs `LongTensor` (`centers`, `contexts`).\n",
    "\n",
    "**Q-2.1 (4 points) Complétez la méthode `__iter__` pour accumuler les paires (`center`, `context`) avec une fenêtre symétrique de taille `window_size`.**"
   ]
  },
  {
   "cell_type": "code",
   "execution_count": 20,
   "metadata": {
    "id": "wPbnRxXqAFYn"
   },
   "outputs": [],
   "source": [
    "class SGNSDataset(IterableDataset):\n",
    "    def __init__(self, encoded_text, window_size, batch_size):\n",
    "        self.encoded_text = encoded_text\n",
    "        self.window_size = window_size\n",
    "        self.batch_size = batch_size\n",
    "\n",
    "    def __iter__(self):\n",
    "        centers = []\n",
    "        contexts = []\n",
    "\n",
    "        ### TODO ###\n",
    "        # Longueur du texte encodé\n",
    "        n = len(self.encoded_text)\n",
    "        W = self.window_size\n",
    "        \n",
    "        for i in range(n):\n",
    "            # Le mot central à la position i\n",
    "            center = self.encoded_text[i]\n",
    "            # Calcul de la borne gauche de la fenêtre \n",
    "            left = max(0, i - W)\n",
    "            # Calcul de la borne droite de la fenêtre\n",
    "            right = min(n, i + W + 1)\n",
    "            \n",
    "            # Boucle sur les positions j dans la fenêtre\n",
    "            for j in range(left, right):\n",
    "                if j == i:\n",
    "                    continue\n",
    "                centers.append(center)\n",
    "                contexts.append(self.encoded_text[j])\n",
    "                # Si le lot est complet, le yield sous forme de tenseurs\n",
    "                if len(centers) == self.batch_size:\n",
    "                    yield (\n",
    "                        torch.tensor(centers, dtype=torch.long),\n",
    "                        torch.tensor(contexts, dtype=torch.long),\n",
    "                    )\n",
    "                    # Réinitialiser les listes pour le prochain lot\n",
    "                    centers = []\n",
    "                    contexts = []\n",
    "        # Yield le dernier lot s'il reste des éléments \n",
    "        if centers:\n",
    "            yield (\n",
    "                torch.tensor(centers, dtype=torch.long),\n",
    "                torch.tensor(contexts, dtype=torch.long),\n",
    "            )\n",
    "        ### END TODO ###"
   ]
  },
  {
   "cell_type": "markdown",
   "metadata": {
    "id": "8EU-8syzqQSg"
   },
   "source": [
    "### 2.2  `SGNSModel` : architecture du modèle (6 points)"
   ]
  },
  {
   "cell_type": "markdown",
   "metadata": {
    "id": "pBjEQCYAkEDA"
   },
   "source": [
    "Pour cette étape, vous devez implémenter le cœur du modèle Skip-Gram with Negative Sampling (SGNS) en PyTorch.\n",
    "Le modèle apprend deux matrices d’embeddings :\n",
    "\n",
    "- une pour les mots centraux (`input_embeddings`),\n",
    "\n",
    "- une pour les mots contextes (`output_embeddings`).\n",
    "\n",
    "\n",
    "L’objectif du modèle SGNS est de rapprocher les paires (mot central, mot contexte) réellement observées dans le corpus, et d’éloigner les paires (mot central, mot négatif) générées artificiellement.\n",
    "Cela se formule comme une tâche de classification binaire pour chaque paire :\n",
    "\n",
    "* la paire positive (vrai contexte) doit produire une forte similarité (sigmoïde proche de 1),\n",
    "* les paires négatives doivent produire une similarité faible (sigmoïde proche de 0).\n",
    "\n",
    "On cherche à maximiser :\n",
    "\n",
    "$$\n",
    "\\log \\sigma(\\mathbf{v}_{w_i} \\cdot \\mathbf{v}_{w_j}) + \\sum_{k=1}^{K} \\log \\sigma(-\\mathbf{v}_{w_i} \\cdot \\mathbf{v}_{w_k})\n",
    "$$\n",
    "où :\n",
    "\n",
    "* $\\mathbf{v}_{w_i}$ est l'embedding du mot central\n",
    "* $\\mathbf{v}_{w_j}$ est celui du mot contexte positif\n",
    "* $\\mathbf{v}_{w_k}$ sont les embeddings des mots négatifs\n",
    "* $\\sigma$ est la fonction sigmoïde\n",
    "* $K$ est le nombre de mots négatifs par exemple positif\n",
    "\n",
    "On calcule donc pour chaque mot central $w_i$ :\n",
    "\n",
    "* un produit scalaire entre $\\mathbf{v}_{w_i}$ et $\\mathbf{v}_{w_j}$,\n",
    "* les produits scalaires entre $\\mathbf{v}_{w_i}$ et chaque vecteur $\\mathbf{v}_{w_k}$,\n",
    "* la somme des `log-sigmoid` de tous les prduits scalaires.\n",
    "\n",
    "La score général est obtenu en sommant les scores de tous les mots centraux.\n",
    "\n",
    "En pratique on va plutôt chercher à minimiser l'opposé de ce score: la perte.\n",
    "\n",
    "**Q-2.2 (6 points) Implémentez les fonctions `init` et `forward`**\n",
    "\n",
    "Dans la section `### TODO ###` du `__init__`, vous devez définir `self.input_embeddings` et `self.output_embeddings` en utilisant `nn.Embedding`, qui provient de PyTorch (torch.nn) : cette couche prend en entrée un vocabulaire de taille `vocab_size` et une dimension d’embedding `d_model`, et elle retourne un tenseur d’embeddings de forme (`vocab_size`, `d_model`) pour transformer les indices de mots en vecteurs denses.\n",
    "\n",
    "Dans la section `### TODO ###` du `forward`, vous devez :\n",
    "\n",
    "1. Extraire les embeddings des mots centraux (`center_words`), contextes (`context_words`) et mots négatifs (`negative_words`).\n",
    "2. Calculer la probabilité sigmoïde pour chaque paire positive.\n",
    "3. Calculer la probabilité sigmoïde pour chaque paire négative.\n",
    "4. Retourner la perte moyenne sur le batch."
   ]
  },
  {
   "cell_type": "code",
   "execution_count": null,
   "metadata": {
    "id": "ioMa6iEWAZSs"
   },
   "outputs": [],
   "source": [
    "import torch.nn.functional as F\n",
    "\n",
    "class SGNSModel(nn.Module):\n",
    "    def __init__(self, vocab_size, embedding_dim, neg_samples, unigram_dist):\n",
    "        super().__init__()\n",
    "\n",
    "        \n",
    "        ### TODO ###\n",
    "       \n",
    "        self.vocab_size = vocab_size      # V\n",
    "        self.embedding_dim = embedding_dim   # D\n",
    "        self.neg_samples =    neg_samples  # K\n",
    "\n",
    "        self.input_embeddings = nn.Embedding(vocab_size, embedding_dim)\n",
    "        self.output_embeddings = nn.Embedding(vocab_size, embedding_dim)\n",
    "        self.unigram_dist = unigram_dist\n",
    "   \n",
    "\n",
    "        ### END TODO ###\n",
    "\n",
    "    def forward(self, center_words, context_words):\n",
    "        batch_size = center_words.size(0)    # B\n",
    "\n",
    "        # Échantillonnage négatif \n",
    "        negative_words = torch.multinomial(\n",
    "            self.unigram_dist,\n",
    "            batch_size * self.neg_samples,\n",
    "            replacement=True\n",
    "        ).view(batch_size, self.neg_samples)\n",
    "\n",
    "        ### TODO ###\n",
    "        \n",
    "        center_embs = self.input_embeddings(center_words)  # (B, D)\n",
    "        context_embs = self.output_embeddings(context_words)  # (B, D)\n",
    "        negative_embs = self.output_embeddings(negative_words)  # (B, K, D)\n",
    "\n",
    "        #Calculer les produits scalaires pour les paires positives\n",
    "        pos_dots = (center_embs * context_embs).sum(dim=1)  # (B)\n",
    "\n",
    "        # Calculer les produits scalaires pour les paires négatives\n",
    "        neg_dots = (center_embs.unsqueeze(1) * negative_embs).sum(dim=2)  # (B, K)\n",
    "\n",
    "        # Calculer les log-sigmoïdes\n",
    "        pos_loss = F.logsigmoid(pos_dots)  # (B)\n",
    "        neg_loss = F.logsigmoid(-neg_dots).sum(dim=1)  # (B)\n",
    "\n",
    "        # Calculer la perte moyenne loss\n",
    "        loss = - (pos_loss + neg_loss).mean()\n",
    "        ### END TODO ###\n",
    "\n",
    "        return loss"
   ]
  },
  {
   "cell_type": "markdown",
   "metadata": {
    "id": "PWVJHVtzsXi4"
   },
   "source": [
    "### 2.3 Préparation de l'entraînement (3 points)"
   ]
  },
  {
   "cell_type": "markdown",
   "metadata": {
    "id": "EnUJ5qVVr58o"
   },
   "source": [
    "**Q-2.3 (3 points) Préparez les éléments nécessaires à l'entraînement :**\n",
    "\n",
    "1. Séparer le jeu de données en jeu d'entrainement (85%) et jeu de validation (15%)\n",
    "\n",
    "2. Instancier les jeux d'entrainement et de validation à l’aide de la classe `SGNSDataset`, en lui passant :\n",
    "\n",
    "   * le corpus encodé (`encoded`),\n",
    "   * la taille de fenêtre (`window_size`),\n",
    "   * la taille des batchs (`batch_size`).\n",
    "\n",
    "2. Créer les DataLoaders PyTorch, avec comme paramètre le jeu de données et `batch_size=None`. Les Dataloaders sont des classes standards de Pytorch qui permettent d'accélerer le chargement des données lors de l'entraînement.\n",
    "\n",
    "3. Initialiser le modèle `SGNSModel`, en précisant :\n",
    "\n",
    "   * la taille du vocabulaire (`vocab_size = max_vocab_size + 1`, pour inclure `<UNK>`),\n",
    "   * la dimension des embeddings (`embedding_dim`),\n",
    "   * le nombre de négatifs par exemple (`neg_samples`),\n",
    "   * et la distribution de sampling (`unigram_dist`).\n",
    "Placer le sur le device.\n",
    "\n",
    "4. Définir l’optimiseur `torch.optim.Adam`, un algorithme d’optimisation adapté aux réseaux de neurones, en utilisant le taux d’apprentissage (`lr`) spécifié dans `args`.\n",
    "\n",
    "Ces éléments seront ensuite utilisés pour lancer ou reprendre l’entraînement dans la suite du TP."
   ]
  },
  {
   "cell_type": "code",
   "execution_count": 22,
   "metadata": {
    "id": "Pr-FBqr8B72z"
   },
   "outputs": [],
   "source": [
    "import os\n",
    "# Création du dossier de sauvegarde\n",
    "os.makedirs(\"checkpoints\", exist_ok=True)\n",
    "\n",
    "# Fichier de sauvegarde\n",
    "model_path = f\"checkpoints/{args.model_name()}.pt\"\n",
    "\n",
    "### TODO ###\n",
    "\"\"\"\n",
    "[...]\n",
    "train_dataset =\n",
    "train_dataloader =\n",
    "\n",
    "val_dataset =\n",
    "val_dataloader =\n",
    "\n",
    "model =\n",
    "\n",
    "optimizer =\n",
    "\"\"\"\n",
    "# Séparation du jeu de données\n",
    "n = len(encoded_corpus)\n",
    "train_size = int(0.85 * n)\n",
    "train_encoded = encoded_corpus[:train_size]\n",
    "val_encoded = encoded_corpus[train_size:]\n",
    "\n",
    "# Instanciation des datasets\n",
    "train_dataset = SGNSDataset(train_encoded, args.window_size, args.batch_size)\n",
    "val_dataset = SGNSDataset(val_encoded, args.window_size, args.batch_size)\n",
    "\n",
    "# Création des DataLoaders\n",
    "train_dataloader = DataLoader(train_dataset, batch_size=None)\n",
    "val_dataloader = DataLoader(val_dataset, batch_size=None)\n",
    "\n",
    "# Initialisation du modèle\n",
    "vocab_size = args.max_vocab_size + 1\n",
    "model = SGNSModel(vocab_size, args.embedding_dim, args.neg_samples, unigram_dist)\n",
    "model = model.to(device)\n",
    "\n",
    "# Définition de l'optimiseur\n",
    "optimizer = torch.optim.Adam(model.parameters(), lr=args.lr)\n",
    "\n",
    "### END TODO ###"
   ]
  },
  {
   "cell_type": "markdown",
   "metadata": {
    "id": "Ptu4viBFtexz"
   },
   "source": [
    "### 2.4 Entraînement du modèle (7 points)"
   ]
  },
  {
   "cell_type": "markdown",
   "metadata": {
    "id": "shmbrPmfkEDB"
   },
   "source": [
    "**Q-2.4.1 (6 points) Implémentez la boucle d’entraînement et d'évaluation du modèle SGNS.**\n",
    "\n",
    "La **boucle d'entraînement standard en [PyTorch](https://docs.pytorch.org/tutorials/beginner/introyt/trainingyt.html)** suit ces étapes clés pour chaque époque (`epoch`) :\n",
    "\n",
    "1. **Mode entraînement** : `model.train()` active les couches comme `Dropout` et normalise les poids.\n",
    "2. **Itération sur les batches** :\n",
    "   - Charger les données (`center_batch`, `context_batch`) et les transférer sur le bon device (CPU/GPU).\n",
    "   - **Forward pass** : Calculer la perte en appelant le modèle sur le batch courant.\n",
    "   - **Backward pass** :\n",
    "     - Réinitialiser les gradients (`optimizer.zero_grad()`).\n",
    "     - Calculer les gradients (`loss.backward()`).\n",
    "     - Mettre à jour les poids (`optimizer.step()`).\n",
    "3. **Calcul de la perte moyenne** pour l'époque en cours.\n",
    "4. **Mode évaluation** : `model.eval()` désactive les couches comme `Dropout`, et `torch.no_grad()` évite de calculer les gradients.\n",
    "5. **Validation** : Même processus que l'entraînement, mais sans mise à jour des poids."
   ]
  },
  {
   "cell_type": "code",
   "execution_count": 23,
   "metadata": {
    "id": "MPpeLpAN9aU-"
   },
   "outputs": [],
   "source": [
    "def train_and_evaluate(model, start_epoch, train_dataloader, val_dataloader, optimizer, train_losses=None, val_losses=None):\n",
    "    for epoch in range(start_epoch, args.epochs):\n",
    "        model.train()\n",
    "        total_train_loss = 0\n",
    "        nb_train_batches = 0\n",
    "\n",
    "        ### TODO ###\n",
    "        for center_batch, context_batch in train_dataloader:\n",
    "            center_batch = center_batch.to(device)\n",
    "            context_batch = context_batch.to(device)\n",
    "\n",
    "            loss = model(center_batch, context_batch)\n",
    "\n",
    "            optimizer.zero_grad()\n",
    "            loss.backward()\n",
    "            optimizer.step()\n",
    "\n",
    "            total_train_loss += loss.item()\n",
    "            nb_train_batches += 1\n",
    "\n",
    "        avg_train_loss = total_train_loss / nb_train_batches\n",
    "        train_losses.append(avg_train_loss)\n",
    "        ### END TODO ###\n",
    "\n",
    "        # Eval on validation set\n",
    "        ### TODO ###\n",
    "        model.eval()\n",
    "        total_val_loss = 0\n",
    "        nb_val_batches = 0\n",
    "\n",
    "        with torch.no_grad():\n",
    "            for center_batch, context_batch in val_dataloader:\n",
    "                center_batch = center_batch.to(device)\n",
    "                context_batch = context_batch.to(device)\n",
    "\n",
    "                loss = model(center_batch, context_batch)\n",
    "\n",
    "                total_val_loss += loss.item()\n",
    "                nb_val_batches += 1\n",
    "\n",
    "        avg_val_loss = total_val_loss / nb_val_batches\n",
    "        val_losses.append(avg_val_loss)\n",
    "        ### END TODO ###\n",
    "\n",
    "\n",
    "        print(f\"Epoch {epoch+1}/{args.epochs} — Train Loss: {avg_train_loss:.4f} — Val Loss: {avg_val_loss:.4f}\")\n",
    "\n",
    "        # Sauvegarde du modèle + métriques\n",
    "        torch.save({\n",
    "            \"epoch\": epoch,\n",
    "            \"model_state\": model.state_dict(),\n",
    "            \"optimizer_state\": optimizer.state_dict(),\n",
    "            \"train_losses\": train_losses,\n",
    "            \"val_losses\": val_losses\n",
    "        }, model_path)\n",
    "\n",
    "    return train_losses, val_losses"
   ]
  },
  {
   "cell_type": "markdown",
   "metadata": {
    "id": "7bQlp1Bet_MC"
   },
   "source": [
    "**Q-2.4.2 (1 points) Entraînez le modèle pendant 15 époques. Une perte sur le jeu de validation inférieure à 2.4 est nécessaire avant de passer à la suite du TP.**\n",
    "\n",
    "Si vous avez correctement effectué les précédentes étapes, une époque devrait prendre 2 minutes. Si ce n'est pas le cas, vérifiez que vous êtes bien sur un GPU Colab (Modifier le type d'exécution\n",
    "-> GPU T4)."
   ]
  },
  {
   "cell_type": "code",
   "execution_count": 24,
   "metadata": {
    "colab": {
     "base_uri": "https://localhost:8080/"
    },
    "executionInfo": {
     "elapsed": 1432681,
     "status": "ok",
     "timestamp": 1752650089677,
     "user": {
      "displayName": "Alexis Brissard",
      "userId": "01552848406770931061"
     },
     "user_tz": 240
    },
    "id": "RmZyKNbct_MC",
    "outputId": "6889950a-1611-4f7a-bba9-84357608ccd1"
   },
   "outputs": [
    {
     "name": "stdout",
     "output_type": "stream",
     "text": [
      "Reprise de l'entraînement à l'epoch 15\n",
      "Embeddings word et context sauvegardés.\n"
     ]
    }
   ],
   "source": [
    "# Chargement du modèle si fichier de sauvegarde existant\n",
    "if os.path.exists(model_path):\n",
    "    checkpoint = torch.load(model_path, map_location=device, weights_only=False)\n",
    "    model.load_state_dict(checkpoint[\"model_state\"])\n",
    "    optimizer.load_state_dict(checkpoint[\"optimizer_state\"])\n",
    "    start_epoch = checkpoint[\"epoch\"] + 1\n",
    "    train_losses = checkpoint[\"train_losses\"]\n",
    "    val_losses =  checkpoint[\"val_losses\"]\n",
    "    print(f\"Reprise de l'entraînement à l'epoch {start_epoch}\")\n",
    "else:\n",
    "    start_epoch = 0\n",
    "    train_losses = []\n",
    "    val_losses = []\n",
    "    print(\"Nouveau modèle initialisé.\")\n",
    "\n",
    "# Entraînement du modèle\n",
    "train_and_evaluate(model, start_epoch, train_dataloader, val_dataloader, optimizer, train_losses, val_losses)\n",
    "\n",
    "# Sauvegarde des embeddings sous forme de dictionnaire\n",
    "checkpoint = torch.load(model_path, map_location=device, weights_only=False)\n",
    "model.load_state_dict(checkpoint[\"model_state\"])\n",
    "model.eval()\n",
    "\n",
    "# Mise des embeddings au format embeddings[word] = embedding\n",
    "sgns_word_embeddings = {\n",
    "    id_to_word[i]: model.input_embeddings.weight[i].detach().cpu().numpy()\n",
    "    for i in range(args.max_vocab_size)\n",
    "}\n",
    "\n",
    "sgns_context_embeddings = {\n",
    "    id_to_word[i]: model.output_embeddings.weight[i].detach().cpu().numpy()\n",
    "    for i in range(args.max_vocab_size)\n",
    "}\n",
    "\n",
    "# Sauvegarde des embeddings\n",
    "os.makedirs(\"embeddings\", exist_ok=True)\n",
    "\n",
    "with open(f\"embeddings/{args.model_name()}_word.pkl\", \"wb\") as f:\n",
    "    pickle.dump(sgns_word_embeddings, f)\n",
    "\n",
    "with open(f\"embeddings/{args.model_name()}_context.pkl\", \"wb\") as f:\n",
    "    pickle.dump(sgns_context_embeddings, f)\n",
    "\n",
    "print(\"Embeddings word et context sauvegardés.\")"
   ]
  },
  {
   "cell_type": "markdown",
   "metadata": {
    "id": "BKu9FyjVv63P"
   },
   "source": [
    "### 2.5 Visualisation de l'entraînement (5 points)"
   ]
  },
  {
   "cell_type": "markdown",
   "metadata": {
    "id": "GgK7PGGfkEDB"
   },
   "source": [
    "**Q-2.5.1 (2 points) Tracez l’évolution de la perte d’entraînement et de validation au fil des époques.**\n",
    "\n",
    "Ces deux métriques ont été automatiquement enregistrées dans le fichier de checkpoint sauvegardé pendant l'entraînement. Vous pouvez les récupérer depuis le fichier à l’aide de `torch.load(...)`, puis afficher leur progression sur un même graphique."
   ]
  },
  {
   "cell_type": "code",
   "execution_count": 25,
   "metadata": {
    "colab": {
     "base_uri": "https://localhost:8080/",
     "height": 487
    },
    "executionInfo": {
     "elapsed": 327,
     "status": "ok",
     "timestamp": 1752650090010,
     "user": {
      "displayName": "Alexis Brissard",
      "userId": "01552848406770931061"
     },
     "user_tz": 240
    },
    "id": "RDziHZQKs-A4",
    "outputId": "b498b59b-c8de-4c4d-9aaa-264ffd155203"
   },
   "outputs": [
    {
     "data": {
      "image/png": "[encoded data removed]",
      "text/plain": [
       "<Figure size 1000x600 with 1 Axes>"
      ]
     },
     "metadata": {},
     "output_type": "display_data"
    }
   ],
   "source": [
    "checkpoint = torch.load(model_path, map_location=device, weights_only=False)\n",
    "### TODO ###\n",
    "\n",
    "plt.figure(figsize=(10, 6))\n",
    "plt.plot(checkpoint['train_losses'], label='Train Loss')\n",
    "plt.plot(checkpoint['val_losses'], label='Validation Loss')\n",
    "plt.xlabel('Epoch')\n",
    "plt.ylabel('Loss')\n",
    "plt.title('Training and Validation Loss')\n",
    "plt.legend()\n",
    "plt.grid(True)\n",
    "plt.show()\n",
    "\n",
    "### END TODO ###"
   ]
  },
  {
   "cell_type": "markdown",
   "metadata": {
    "id": "yIfdNlV0HtOK"
   },
   "source": [
    "**Q-2.5.2 (2 points) Commentez les courbes obtenues. L'entraînement vous semble-t-il valide ? À quelle époque obtenez-vous le meilleur modèle ?**"
   ]
  },
  {
   "cell_type": "code",
   "execution_count": 26,
   "metadata": {},
   "outputs": [
    {
     "name": "stdout",
     "output_type": "stream",
     "text": [
      "meilleur model epoch est 3 avec loss: 2.4014\n"
     ]
    }
   ],
   "source": [
    "# trouver la meilleur epoch\n",
    "best_epoch = np.argmin(checkpoint['val_losses'])\n",
    "print(f\"meilleur model epoch est {best_epoch + 1} avec loss: {checkpoint['val_losses'][best_epoch]:.4f}\")"
   ]
  },
  {
   "cell_type": "markdown",
   "metadata": {
    "id": "gzotuvDXt_ME"
   },
   "source": [
    "**Q-2.5.3 (1 point) Comment pourriez vous tenter d'obtenir de meilleurs résultats très simplement ?**"
   ]
  },
  {
   "cell_type": "markdown",
   "metadata": {
    "id": "BqJq90MEt_ME"
   },
   "source": [
    "**Bravo, vous avez implémenté et entraîné votre propre modèle SGNS !**\n",
    "\n",
    "Vous avez maintenant des embeddings de mots que vous pouvez utiliser pour diverses tâches NLP."
   ]
  },
  {
   "cell_type": "markdown",
   "metadata": {
    "id": "NX1QS5308CXs"
   },
   "source": [
    "---\n",
    "## 3. Comparaison des embeddings SGNS avec GloVe (20 points)"
   ]
  },
  {
   "cell_type": "markdown",
   "metadata": {
    "id": "DR0MDYCXMU11"
   },
   "source": [
    "Une fois l'entraînement terminé et les embeddings sauvegardés, nous pouvons explorer les propriétés géométriques des vecteurs appris avec SGNS, et les comparer aux vecteurs GloVe. GLoVe est une autre technique utilisée pour obtenir des embeddings de mots. Nous n'allons pas la réimplémenter mais seulement récupérer les vecteurs obtenus après l'entraînement d'un modèle. Les embeddings, ainsi que des informations sur l'entraînement du modèle GloVe, sont disponibles à cette adresse: https://nlp.stanford.edu/projects/glove/. Ils sont déjà inclus dans les fichiers du TP, pas besoin de les télécharger à nouveau."
   ]
  },
  {
   "cell_type": "markdown",
   "metadata": {
    "id": "140kDkzfs7eY"
   },
   "source": [
    "### 3.1 Chargement des vecteurs SGNS et GloVe (3 points)"
   ]
  },
  {
   "cell_type": "code",
   "execution_count": 27,
   "metadata": {
    "id": "549k_wd9k0Iu"
   },
   "outputs": [],
   "source": [
    "args = SGNSArgs()\n",
    "\n",
    "model_path = f\"checkpoints/{args.model_name()}.pt\"\n",
    "\n",
    "# Charger les embeddings word et context\n",
    "with open(f\"embeddings/{args.model_name()}_word.pkl\", \"rb\") as f:\n",
    "    sgns_word_embeddings = pickle.load(f)\n",
    "\n",
    "with open(f\"embeddings/{args.model_name()}_context.pkl\", \"rb\") as f:\n",
    "    sgns_context_embeddings = pickle.load(f)"
   ]
  },
  {
   "cell_type": "code",
   "execution_count": 28,
   "metadata": {
    "colab": {
     "base_uri": "https://localhost:8080/"
    },
    "executionInfo": {
     "elapsed": 8698,
     "status": "ok",
     "timestamp": 1752650333324,
     "user": {
      "displayName": "Alexis Brissard",
      "userId": "01552848406770931061"
     },
     "user_tz": 240
    },
    "id": "cUe9_XnY9x-h",
    "outputId": "11823dc8-f3bc-49c5-dc83-ad165871cd76"
   },
   "outputs": [
    {
     "name": "stdout",
     "output_type": "stream",
     "text": [
      "29827 vecteurs GloVe chargés.\n"
     ]
    }
   ],
   "source": [
    "def load_glove_embeddings(path, vocab_limit=None, vocab_filter=None):\n",
    "    embeddings = {}\n",
    "    with open(path, \"r\", encoding=\"utf-8\") as f:\n",
    "        for i, line in enumerate(f):\n",
    "            if vocab_limit is not None and i >= vocab_limit:\n",
    "                break\n",
    "            tokens = line.strip().split()\n",
    "            word = tokens[0]\n",
    "            # Filter by vocabulary if vocab_filter is provided\n",
    "            if vocab_filter is not None and word not in vocab_filter:\n",
    "                continue\n",
    "            vector = np.array(tokens[1:], dtype=np.float32)\n",
    "            embeddings[word] = vector\n",
    "    print(f\"{len(embeddings)} vecteurs GloVe chargés.\")\n",
    "    return embeddings\n",
    "\n",
    "glove_path = \"data/glove_data/glove.6B.50d.txt\"\n",
    "# Pass the keys of sgns_word_embeddings as the vocabulary filter\n",
    "glove_embeddings = load_glove_embeddings(glove_path, vocab_filter=sgns_word_embeddings.keys())"
   ]
  },
  {
   "cell_type": "markdown",
   "metadata": {
    "id": "F9PN99WMt_MF"
   },
   "source": [
    "**Q-3.1 (3 points) En comparant le code de SGNS avec celui de GloVe, une différence est immédiatement visible entre les 2 types d'embeddings. Nommez la et expliquez-en la cause.**"
   ]
  },
  {
   "cell_type": "markdown",
   "metadata": {
    "id": "MC4MO-kb0yZX"
   },
   "source": [
    "### 3.2 Évaluation qualitative des embeddings (10 points)"
   ]
  },
  {
   "cell_type": "markdown",
   "metadata": {
    "id": "uVp8tTnir8d2"
   },
   "source": [
    "#### 3.2.1 Similarité des embeddings (3 points)"
   ]
  },
  {
   "cell_type": "markdown",
   "metadata": {
    "id": "SkN-YwV0t8Ud"
   },
   "source": [
    "**Q-3.2.1 (3 points) Explorez les relations sémantiques apprises par vos embeddings. Pour cela :**\n",
    "\n",
    "1. Implémentez une fonction `cosine_similarity(vec1, vec2)` qui calcule la similarité cosinus entre deux vecteurs.\n",
    "2. Implémentez une fonction `most_similar(word, embeddings, top_n=10)` qui retourne les `top_n` mots les plus similaires à un mot donné, selon cette similarité.\n",
    "\n",
    "Si un mot n'est pas présent dans les embeddings, renvoyez une erreur."
   ]
  },
  {
   "cell_type": "code",
   "execution_count": null,
   "metadata": {
    "colab": {
     "base_uri": "https://localhost:8080/"
    },
    "executionInfo": {
     "elapsed": 516,
     "status": "ok",
     "timestamp": 1752650497562,
     "user": {
      "displayName": "Alexis Brissard",
      "userId": "01552848406770931061"
     },
     "user_tz": 240
    },
    "id": "dnRmvDxp0x14",
    "outputId": "748f5774-b779-41c2-ffc4-5e5c36e89705"
   },
   "outputs": [
    {
     "name": "stdout",
     "output_type": "stream",
     "text": [
      "======== SGNS ================\n",
      "Mots les plus similaires à 'montreal':\n",
      "vancouver: 0.6474\n",
      "montr: 0.6325\n",
      "ontario: 0.6283\n",
      "ottawa: 0.6250\n",
      "canadiens: 0.6220\n",
      "======== GloVe ================\n",
      "Mots les plus similaires à 'montreal':\n",
      "toronto: 0.9065\n",
      "edmonton: 0.8803\n",
      "vancouver: 0.8688\n",
      "calgary: 0.8536\n",
      "ottawa: 0.8318\n"
     ]
    }
   ],
   "source": [
    "### TODO ###\n",
    "\n",
    "def cosine_similarity(vec1, vec2):\n",
    "    return np.dot(vec1, vec2) / (np.linalg.norm(vec1) * np.linalg.norm(vec2))\n",
    "\n",
    "def most_similar(word, embeddings, top_n=10):\n",
    "    if word not in embeddings:\n",
    "        raise ValueError(f\"Word '{word}' not found in embeddings\")\n",
    "    \n",
    "    target_vec = embeddings[word]\n",
    "    similarities = []\n",
    "    \n",
    "    for w, vec in embeddings.items():\n",
    "        if w != word:\n",
    "            sim = cosine_similarity(target_vec, vec)\n",
    "            similarities.append((w, sim))\n",
    "    \n",
    "    similarities.sort(key=lambda x: x[1], reverse=True)\n",
    "    return similarities[:top_n]\n",
    "### END TODO ###\n",
    "\n",
    "# Exemple d'utilisation (amusez-vous avec d'autres mots !)\n",
    "target_word = \"montreal\"\n",
    "\n",
    "print(\"======== SGNS ================\")\n",
    "top_words = most_similar(target_word, sgns_word_embeddings, top_n=5)\n",
    "print(f\"Mots les plus similaires à '{target_word}':\")\n",
    "for w, s in top_words:\n",
    "    print(f\"{w}: {s:.4f}\")\n",
    "\n",
    "print(\"======== GloVe ================\")\n",
    "top_words = most_similar(target_word, glove_embeddings, top_n=5)\n",
    "print(f\"Mots les plus similaires à '{target_word}':\")\n",
    "for w, s in top_words:\n",
    "    print(f\"{w}: {s:.4f}\")"
   ]
  },
  {
   "cell_type": "markdown",
   "metadata": {
    "id": "ji3WHKAMsAQx"
   },
   "source": [
    "#### 3.2.2 Analogie (2 points)"
   ]
  },
  {
   "cell_type": "markdown",
   "metadata": {
    "id": "KuzAKiKb2Fjg"
   },
   "source": [
    "**Q-3.2.2 (2 points) Implémentez une fonction `analogy` qui évalue des analogies du type \"A est à B comme C est à ?\".**\n",
    "\n",
    "L'idée est d'utiliser l'arithmétique vectorielle dans l’espace des embeddings, selon la formule :\n",
    "\n",
    "$$\n",
    "\\text{vec}(B) - \\text{vec}(A) + \\text{vec}(C)\n",
    "$$\n",
    "\n",
    "et de chercher les mots les plus proches du vecteur résultant.\n",
    "\n",
    "Exemple d'analogie: **france - paris + madrid ≈ ?**"
   ]
  },
  {
   "cell_type": "code",
   "execution_count": 31,
   "metadata": {
    "colab": {
     "base_uri": "https://localhost:8080/"
    },
    "executionInfo": {
     "elapsed": 458,
     "status": "ok",
     "timestamp": 1752650334220,
     "user": {
      "displayName": "Alexis Brissard",
      "userId": "01552848406770931061"
     },
     "user_tz": 240
    },
    "id": "0undhJY9BB2t",
    "outputId": "c8a90944-f9f7-403b-aef5-dac4d257dc0b"
   },
   "outputs": [
    {
     "name": "stdout",
     "output_type": "stream",
     "text": [
      "======== SGNS ================\n",
      "\n",
      "Analogie : france - paris + madrid ≈ ?\n",
      "ceasefire: 0.6836\n",
      "tunis: 0.6722\n",
      "mayotte: 0.6626\n",
      "algerian: 0.6540\n",
      "valencia: 0.6513\n",
      "======== GloVe ================\n",
      "\n",
      "Analogie : france - paris + madrid ≈ ?\n",
      "spain: 0.8519\n",
      "portugal: 0.8363\n",
      "barcelona: 0.8094\n",
      "italy: 0.8007\n",
      "valencia: 0.7911\n"
     ]
    }
   ],
   "source": [
    "### TODO ###\n",
    "def analogy(word_a, word_b, word_c, embeddings, top_n=5):\n",
    "    for w in [word_a, word_b, word_c]:\n",
    "        if w not in embeddings:\n",
    "            raise ValueError(f\"Word '{w}' not found in embeddings\")\n",
    "    \n",
    "    # Calculate: vec(b) - vec(a) + vec(c)\n",
    "    target_vec = embeddings[word_b] - embeddings[word_a] + embeddings[word_c]\n",
    "    \n",
    "    similarities = []\n",
    "    for word, vec in embeddings.items():\n",
    "        if word not in [word_a, word_b, word_c]:\n",
    "            sim = cosine_similarity(target_vec, vec)\n",
    "            similarities.append((word, sim))\n",
    "    \n",
    "    similarities.sort(key=lambda x: x[1], reverse=True)\n",
    "    return similarities[:top_n]\n",
    "\n",
    "### END TODO ###\n",
    "\n",
    "word1 = \"paris\"\n",
    "word2 = \"france\"\n",
    "word3 = \"madrid\"\n",
    "\n",
    "print(\"======== SGNS ================\")\n",
    "print(f\"\\nAnalogie : {word2} - {word1} + {word3} ≈ ?\")\n",
    "analogie = analogy(word1, word2, word3, sgns_word_embeddings, top_n=5)\n",
    "for w, s in analogie:\n",
    "    print(f\"{w}: {s:.4f}\")\n",
    "\n",
    "print(\"======== GloVe ================\")\n",
    "print(f\"\\nAnalogie : {word2} - {word1} + {word3} ≈ ?\")\n",
    "analogie = analogy(word1, word2, word3, glove_embeddings, top_n=5)\n",
    "for w, s in analogie:\n",
    "    print(f\"{w}: {s:.4f}\")"
   ]
  },
  {
   "cell_type": "markdown",
   "metadata": {
    "id": "KAGIJX91t_MG"
   },
   "source": [
    "#### 3.2.3 Comparaison qualitative (1 point)"
   ]
  },
  {
   "cell_type": "markdown",
   "metadata": {
    "id": "9gzm4r25t_MH"
   },
   "source": [
    "**Q-3.2.3 (1 point) Est ce que les exemples analysés indiquent que certains embeddings sont de meilleure qualité ?**"
   ]
  },
  {
   "cell_type": "markdown",
   "metadata": {
    "id": "yQQskyY1pU5J"
   },
   "source": [
    "#### 3.2.4 Représentation visuelle (4 points)"
   ]
  },
  {
   "cell_type": "markdown",
   "metadata": {
    "id": "J2nxaWn6Z_SQ"
   },
   "source": [
    "**Q-3.2.4.1 (3 points) Représentez dans un plan 2D les vecteurs appris de plusieurs paires capitale / pays**.\n",
    "\n",
    "L’objectif est d’observer si les relations entre pays et capitales sont **géométriquement cohérentes** dans l’espace vectoriel, c’est-à-dire :\n",
    "\n",
    "* Est-ce que les embeddings associés à des capitales sont proches de ceux de leur pays ?\n",
    "* Est-ce que les vecteurs formés par les paires capitale → pays sont similaires ?\n",
    "\n",
    "Attention, il faut bien faire la différence entre les vecteurs de mots (les embeddings) et les vecteurs de relation entre 2 embeddings (capitale → pays). Les vecteurs de relation ne sont pas appris directement par le modèle, ils émergent naturellement de la structure sémantique apprise par le modèle. \n",
    "\n",
    "Pour cela, on utilise une méthode de réduction de dimension appelée **PCA** (Analyse en Composantes Principales). Cette méthode projette les vecteurs de grande dimension (dans notre cas 50) sur deux axes principaux (composantes), choisis de façon à conserver le plus possible de variance (structure) dans les données.\n",
    "\n",
    "Concrètement :\n",
    "\n",
    "```python\n",
    "pca = PCA(n_components=2)\n",
    "points_2d = pca.fit_transform(points)\n",
    "```\n",
    "\n",
    "retourne une liste de points 2D, où chaque point est un vecteur de la forme `(x, y)` que l’on peut décomposer comme suit :\n",
    "\n",
    "```python\n",
    "x, y = points_2d[i]\n",
    "```\n",
    "\n",
    "Ces points peuvent ensuite être affichés dans un graphe 2D, avec une couleur par paire capitale / pays et une flèche pour illustrer la relation entre les deux.\n",
    "Les axes X et Y représentent les composantes principales extraites par PCA et n'ont pas de signification sémantique définie."
   ]
  },
  {
   "cell_type": "code",
   "execution_count": 33,
   "metadata": {
    "id": "65IwoFrKmFc6"
   },
   "outputs": [],
   "source": [
    "def concept_representation(concepts: dict[str, str], word_embeddings: dict[str, np.ndarray], model_name: str):\n",
    "    # Collect all word vectors\n",
    "    all_words = []\n",
    "    all_vectors = []\n",
    "    \n",
    "    for capital, country in concepts.items():\n",
    "        if capital in word_embeddings and country in word_embeddings:\n",
    "            all_words.extend([capital, country])\n",
    "            all_vectors.extend([word_embeddings[capital], word_embeddings[country]])\n",
    "    \n",
    "    if len(all_vectors) == 0:\n",
    "        print(\"No valid word pairs found\")\n",
    "        return\n",
    "    \n",
    "    # Apply PCA\n",
    "    pca = PCA(n_components=2)\n",
    "    points_2d = pca.fit_transform(np.array(all_vectors))\n",
    "    \n",
    "    # Plot\n",
    "    plt.figure(figsize=(10, 8))\n",
    "    colors = plt.cm.tab10(np.linspace(0, 1, len(concepts)))\n",
    "    \n",
    "    idx = 0\n",
    "    for i, (capital, country) in enumerate(concepts.items()):\n",
    "        if capital in word_embeddings and country in word_embeddings:\n",
    "            # Plot points\n",
    "            plt.scatter(points_2d[idx, 0], points_2d[idx, 1], \n",
    "                       color=colors[i], s=100, marker='o')\n",
    "            plt.text(points_2d[idx, 0], points_2d[idx, 1], capital, \n",
    "                    fontsize=9, ha='right')\n",
    "            \n",
    "            plt.scatter(points_2d[idx+1, 0], points_2d[idx+1, 1], \n",
    "                       color=colors[i], s=100, marker='s')\n",
    "            plt.text(points_2d[idx+1, 0], points_2d[idx+1, 1], country, \n",
    "                    fontsize=9, ha='right')\n",
    "            \n",
    "            # Draw arrow from capital to country\n",
    "            plt.arrow(points_2d[idx, 0], points_2d[idx, 1],\n",
    "                     points_2d[idx+1, 0] - points_2d[idx, 0],\n",
    "                     points_2d[idx+1, 1] - points_2d[idx, 1],\n",
    "                     head_width=0.02, head_length=0.02, \n",
    "                     fc=colors[i], ec=colors[i], alpha=0.5)\n",
    "            idx += 2\n",
    "    \n",
    "    plt.title(f\"PCA - Représentation des concepts ({model_name})\")\n",
    "    plt.xlabel(\"Composante principale 1\")\n",
    "    plt.ylabel(\"Composante principale 2\")\n",
    "    plt.grid(True)\n",
    "    plt.show()"
   ]
  },
  {
   "cell_type": "code",
   "execution_count": 34,
   "metadata": {
    "colab": {
     "base_uri": "https://localhost:8080/",
     "height": 719
    },
    "executionInfo": {
     "elapsed": 387,
     "status": "ok",
     "timestamp": 1752650334618,
     "user": {
      "displayName": "Alexis Brissard",
      "userId": "01552848406770931061"
     },
     "user_tz": 240
    },
    "id": "yH3VKmUW_FB5",
    "outputId": "75646141-7bd3-43de-bf75-10587b3fe317"
   },
   "outputs": [
    {
     "data": {
      "image/png": "[encoded data removed]",
      "text/plain": [
       "<Figure size 1000x800 with 1 Axes>"
      ]
     },
     "metadata": {},
     "output_type": "display_data"
    }
   ],
   "source": [
    "# Dictionnaire {capitale: pays}\n",
    "europe_capitals = {\n",
    "    \"paris\": \"france\",\n",
    "    \"berlin\": \"germany\",\n",
    "    \"rome\": \"italy\",\n",
    "    \"madrid\": \"spain\",\n",
    "}\n",
    "\n",
    "concept_representation(europe_capitals, sgns_word_embeddings, \"SGNS\")"
   ]
  },
  {
   "cell_type": "code",
   "execution_count": 35,
   "metadata": {
    "colab": {
     "base_uri": "https://localhost:8080/",
     "height": 719
    },
    "executionInfo": {
     "elapsed": 228,
     "status": "ok",
     "timestamp": 1752650334844,
     "user": {
      "displayName": "Alexis Brissard",
      "userId": "01552848406770931061"
     },
     "user_tz": 240
    },
    "id": "rcfZcOMOIiSN",
    "outputId": "bb803e77-3923-4306-bf9c-13496006ce2d"
   },
   "outputs": [
    {
     "data": {
      "image/png": "[encoded data removed]",
      "text/plain": [
       "<Figure size 1000x800 with 1 Axes>"
      ]
     },
     "metadata": {},
     "output_type": "display_data"
    }
   ],
   "source": [
    "concept_representation(europe_capitals, glove_embeddings, \"GloVe\")"
   ]
  },
  {
   "cell_type": "markdown",
   "metadata": {
    "id": "ebtRpkKTuKMi"
   },
   "source": [
    "**Q-3.2.4.2 (1 point) Observez et comparez la disposition des embeddings GloVe et SGNS. Quels embeddings semblent être de meilleure qualité ?**"
   ]
  },
  {
   "cell_type": "markdown",
   "metadata": {
    "id": "poFJ-Hs1z373"
   },
   "source": [
    "### 3.3 Évaluation quantitative des embeddings avec Spearman sur SimLex-999 (7 points)"
   ]
  },
  {
   "cell_type": "markdown",
   "metadata": {
    "id": "-wTs-Sp2kh6z"
   },
   "source": [
    "**Q-3.3.1 (1 point) Actuellement nous n'avons pas de jeu de test, quel risque cela pose-t-il pour l'évaluation de notre modèle ?**\n",
    "\n",
    "\n",
    "\n",
    "Nous allons donc évaluer la qualité des vecteurs appris grâce à un jeu de données de test : le dataset SimLex-999.\n",
    "\n",
    "Le dataset SimLex-999 contient 999 paires de mots (en anglais), chacune notée manuellement par des annotateurs humains selon leur similarité sémantique réelle (et non leur simple association).\n",
    "\n",
    "* Exemple :\n",
    "\n",
    "  * chat / tigre : similaires → score élevé\n",
    "  * chat / litière : associés, mais pas similaires → score bas\n",
    "\n",
    "SimLex-999 fait la distinction entre similarité (même catégorie/concept) et association (mots souvent co-occurrents).\n",
    "C’est donc un bon test pour vérifier que les embeddings capturent des relations conceptuelles, et non seulement des co-occurrences statistiques.\n",
    "\n",
    "Pour mesurer si les vecteurs SGNS reflètent cette similarité humaine, on compare :\n",
    "\n",
    "* Le score humain de chaque paire du dataset (valeurs entre 0 et 10)\n",
    "* Le cosinus entre les vecteurs de mots correspondants (valeurs entre 0 et 1)\n",
    "\n",
    "On évalue la corrélation entre ces deux séries de scores à l’aide de la corrélation de Spearman.\n",
    "Cette métrique mesure la similarité entre deux classements (ordres relatifs), indépendamment des valeurs exactes. Nous utilisons précisement cette métrique, parce qu'on veut savoir si \"les paires les plus proches selon SGNS sont aussi les plus proches selon les humains\", même si les échelles ne sont pas les mêmes.\n",
    "\n",
    "Voici la formule de la corrélation de Spearman :\n",
    "\n",
    "$$\n",
    "\\rho = 1 - \\frac{6 \\sum d_i^2}{n(n^2 - 1)}\n",
    "$$\n",
    "\n",
    "où $d_i$ est la différence de rangs entre les deux listes, et $n$ le nombre de paires."
   ]
  },
  {
   "cell_type": "markdown",
   "metadata": {
    "id": "BcPevjQAk1QK"
   },
   "source": [
    "**Q-3.3.2 (2 points) Implémentez la fonction d'évaluation utilisant SimLex-999.**\n",
    "\n",
    "Cette fonction:\n",
    "- lit les paires de mots et les scores de similarité à partir du fichier SimLex-999.txt\n",
    "\n",
    "- calcule la similarité cosinus entre les embeddings de chaque paire (si les deux mots sont dans le dictionnaire)\n",
    "\n",
    "- retourne la corrélation de Spearman entre les similarités calculées et les scores humains\n",
    "\n",
    "Cette fonction nous permettra d'évaluer la qualité des embeddings SGNS durant l'entraînement."
   ]
  },
  {
   "cell_type": "code",
   "execution_count": 36,
   "metadata": {
    "id": "ZbTZGQhqkoeT"
   },
   "outputs": [],
   "source": [
    "def simlex_eval(file_path=\"data/SimLex-999.txt\", word_embeddings=None):\n",
    "    ### TODO ###\n",
    "    pairs = []\n",
    "    gold = []\n",
    "    \n",
    "    with open(file_path, 'r') as f:\n",
    "        next(f)  # Skip header\n",
    "        for line in f:\n",
    "            parts = line.strip().split('\\t')\n",
    "            word1, word2, score = parts[0], parts[1], float(parts[3])\n",
    "            \n",
    "            if word1 in word_embeddings and word2 in word_embeddings:\n",
    "                sim = cosine_similarity(word_embeddings[word1], word_embeddings[word2])\n",
    "                pairs.append(sim)\n",
    "                gold.append(score)\n",
    "    \n",
    "    if len(pairs) == 0:\n",
    "        return 0.0\n",
    "    \n",
    "    ### END TODO ###\n",
    "\n",
    "    corr, _ = spearmanr(pairs, gold) # fonction de scipy.stats pour calculer la corrélation de Spearman\n",
    "    return corr"
   ]
  },
  {
   "cell_type": "markdown",
   "metadata": {
    "id": "3d3LpMkNMU13"
   },
   "source": [
    "**Q-3.3.3 (1 point) Évaluez les embeddings produits par votre modèle SGNS en les comparant à ceux du modèle pré-entraîné GloVe, à l’aide du dataset SimLex-999.**"
   ]
  },
  {
   "cell_type": "code",
   "execution_count": null,
   "metadata": {
    "colab": {
     "base_uri": "https://localhost:8080/"
    },
    "executionInfo": {
     "elapsed": 1268,
     "status": "ok",
     "timestamp": 1752650336129,
     "user": {
      "displayName": "Alexis Brissard",
      "userId": "01552848406770931061"
     },
     "user_tz": 240
    },
    "id": "q2UosuSqBALJ",
    "outputId": "c9b8adf2-326d-4670-e111-2831a071d5d2"
   },
   "outputs": [],
   "source": [
    "### TODO ###\n",
    "\n",
    "\n",
    "### END TODO ###"
   ]
  },
  {
   "cell_type": "markdown",
   "metadata": {
    "id": "bVYx3m3WHWlv"
   },
   "source": [
    "**Q-3.3.4 (3 points) Est ce que les résultats obtenus confirment votre évaluation qualitative ? S'il y en a une, expliquez la différence de performance entre les 2 types d'embeddings.**"
   ]
  },
  {
   "cell_type": "markdown",
   "metadata": {
    "id": "9SovTUSxMGzq"
   },
   "source": [
    "## Donné: Approximation des voisins les plus proches (0 point)"
   ]
  },
  {
   "cell_type": "markdown",
   "metadata": {
    "id": "IHs4kMD2MYYK"
   },
   "source": [
    "Les fonctions `most_similar` et `analogy` ne sont actuellement pas efficaces car elles nécessitent une recherche exhaustive (l'embedding cible est comparé avec tous les autres embeddings). Cela entraîne un coût computationnel de $O(V)$ (où $V$ est la taille du vocabulaire). Nous avons besoin de calculer de nombreuses similarités pour la prochaine section, il nous faut donc accélèrer ces fonctions.\n",
    "\n",
    "Pour cela, nous utiliserons Annoy (Approximate Nearest Neighbors Oh Yeah). Annoy est une bibliothèque conçue pour trouver les voisins les plus proches dans un espace de haute dimension bien plus rapidement qu'une recherche exhaustive. Elle construit un index de voisins approximatifs (ANN) sous forme d'arbres de décisions aléatoires (similairement à un algorithme Random forest).\n",
    "\n",
    "Lors d'une requête, Annoy navigue rapidement dans sa structure arborescente pour trouver des vecteurs probablement proches, sans vérifier chaque élément. Cela offre une accélération considérable, réduisant le temps de recherche à $O(log(V))$."
   ]
  },
  {
   "cell_type": "code",
   "execution_count": null,
   "metadata": {
    "colab": {
     "base_uri": "https://localhost:8080/"
    },
    "executionInfo": {
     "elapsed": 19883,
     "status": "ok",
     "timestamp": 1752650356018,
     "user": {
      "displayName": "Alexis Brissard",
      "userId": "01552848406770931061"
     },
     "user_tz": 240
    },
    "id": "qWFIA_sqLyLD",
    "outputId": "79db6ded-94d4-4e0c-e723-608e5d275ae7"
   },
   "outputs": [],
   "source": [
    "!pip install annoy"
   ]
  },
  {
   "cell_type": "code",
   "execution_count": null,
   "metadata": {
    "id": "b983631d"
   },
   "outputs": [],
   "source": [
    "from annoy import AnnoyIndex\n",
    "\n",
    "def build_annoy_index(embeddings, embedding_dim, num_trees=10):\n",
    "    \"\"\"\n",
    "    Builds an Annoy index for word embeddings.\n",
    "\n",
    "    Args:\n",
    "        embeddings: Dictionary of word embeddings {word: vector}\n",
    "        embedding_dim: Dimension of the embedding vectors\n",
    "        num_trees: Number of trees to build (more trees = higher accuracy, slower build)\n",
    "\n",
    "    Returns:\n",
    "        Annoy index object and a list of words in the index order.\n",
    "    \"\"\"\n",
    "    t = AnnoyIndex(embedding_dim, 'angular')  # Use angular for cosine distance (1 - cosine similarity)\n",
    "    words_in_index = []\n",
    "    for i, (word, vec) in enumerate(embeddings.items()):\n",
    "        t.add_item(i, vec)\n",
    "        words_in_index.append(word)\n",
    "\n",
    "    print(\"Building Annoy index...\")\n",
    "    start_time = time.time()\n",
    "    t.build(num_trees)\n",
    "    end_time = time.time()\n",
    "    print(f\"Annoy index built in {end_time - start_time:.2f} seconds.\")\n",
    "\n",
    "    return t, words_in_index"
   ]
  },
  {
   "cell_type": "code",
   "execution_count": null,
   "metadata": {
    "id": "1n_bOAzgMDRX"
   },
   "outputs": [],
   "source": [
    "def most_similar_annoy(query_vec, annoy_index, words_in_index, embeddings_dict, top_n=10, exclude_words=[]):\n",
    "    \"\"\"\n",
    "    Finds the most similar words using an Annoy index, given a query vector.\n",
    "\n",
    "    Args:\n",
    "        query_vec: The target vector.\n",
    "        annoy_index: The built Annoy index object.\n",
    "        words_in_index: List of words corresponding to the index item IDs.\n",
    "        embeddings_dict: The original dictionary of embeddings (needed to get original vectors).\n",
    "        top_n: Number of similar words to retrieve.\n",
    "        exclude_words: List of words to exclude from the results.\n",
    "\n",
    "    Returns:\n",
    "        List of (word, similarity) tuples.\n",
    "    \"\"\"\n",
    "    # Query the index for nearest neighbors\n",
    "    # We ask for more than top_n to account for excluded words\n",
    "    nearest_ids = annoy_index.get_nns_by_vector(query_vec, top_n + len(exclude_words) + 5, include_distances=True)\n",
    "\n",
    "    similarities = []\n",
    "    for item_id, distance in zip(nearest_ids[0], nearest_ids[1]):\n",
    "        candidate_word = words_in_index[item_id]\n",
    "\n",
    "        if candidate_word in exclude_words:\n",
    "            continue # Skip excluded words\n",
    "\n",
    "        # Calculate exact cosine similarity using original vectors\n",
    "        candidate_vec = embeddings_dict[candidate_word]\n",
    "        sim = cosine_similarity(query_vec, candidate_vec)\n",
    "        similarities.append((candidate_word, sim))\n",
    "\n",
    "        if len(similarities) >= top_n:\n",
    "            break # Stop once we have enough results\n",
    "\n",
    "    # Sort by similarity (descending) - Annoy's distances are ascending, need to re-sort by cosine\n",
    "    similarities.sort(key=lambda x: x[1], reverse=True)\n",
    "\n",
    "    return similarities[:top_n]\n",
    "\n",
    "def analogy_annoy(word_a, word_b, word_c, annoy_index, words_in_index, embeddings_dict, top_n=5):\n",
    "    \"\"\"\n",
    "    Performs analogy task A is to B as C is to ? using vector arithmetic and Annoy for search.\n",
    "    \"\"\"\n",
    "    for w in [word_a, word_b, word_c]:\n",
    "        if w not in embeddings_dict:\n",
    "            raise ValueError(f\"Mot '{w}' non trouvé dans les embeddings.\")\n",
    "\n",
    "    # Calculate the target vector\n",
    "    target_vec = embeddings_dict[word_b] - embeddings_dict[word_a] + embeddings_dict[word_c]\n",
    "\n",
    "    # Use Annoy to find nearest neighbors to the target vector\n",
    "    # Exclude the input words from the results\n",
    "    exclude_words = [word_a, word_b, word_c]\n",
    "    similarities = most_similar_annoy(target_vec, annoy_index, words_in_index, embeddings_dict, top_n, exclude_words)\n",
    "\n",
    "    return similarities"
   ]
  },
  {
   "cell_type": "code",
   "execution_count": null,
   "metadata": {
    "colab": {
     "base_uri": "https://localhost:8080/"
    },
    "executionInfo": {
     "elapsed": 934,
     "status": "ok",
     "timestamp": 1752650357018,
     "user": {
      "displayName": "Alexis Brissard",
      "userId": "01552848406770931061"
     },
     "user_tz": 240
    },
    "id": "hAqnL9AnRFVV",
    "outputId": "53c32433-cc79-42c6-bff6-c833d75e279f"
   },
   "outputs": [],
   "source": [
    "# Index build\n",
    "sgns_annoy_index, sgns_words_in_index = build_annoy_index(sgns_word_embeddings, args.embedding_dim)\n",
    "glove_annoy_index, glove_words_in_index = build_annoy_index(glove_embeddings, args.embedding_dim)"
   ]
  },
  {
   "cell_type": "code",
   "execution_count": null,
   "metadata": {
    "colab": {
     "base_uri": "https://localhost:8080/"
    },
    "executionInfo": {
     "elapsed": 338,
     "status": "ok",
     "timestamp": 1752650357398,
     "user": {
      "displayName": "Alexis Brissard",
      "userId": "01552848406770931061"
     },
     "user_tz": 240
    },
    "id": "4-TWDqrHQfOi",
    "outputId": "75dfb433-0ad1-45b4-f81a-14cdd773fa0c"
   },
   "outputs": [],
   "source": [
    "target_word = \"paris\"\n",
    "\n",
    "# Brute force timing\n",
    "start_time = time.time()\n",
    "most_similar(target_word, sgns_word_embeddings, top_n=5)\n",
    "print(f\"Brute force time: {time.time() - start_time:.4f} seconds\")\n",
    "\n",
    "# Annoy timing\n",
    "start_time = time.time()\n",
    "most_similar_annoy(sgns_word_embeddings[target_word], sgns_annoy_index, sgns_words_in_index, sgns_word_embeddings, top_n=5)\n",
    "print(f\"Annoy time: {time.time() - start_time:.4f} seconds\")"
   ]
  },
  {
   "cell_type": "markdown",
   "metadata": {
    "id": "YqZDNKqtllsD"
   },
   "source": [
    "---\n",
    "## 4. Analyse des relations géométriques entre les embeddings (15 points)"
   ]
  },
  {
   "cell_type": "markdown",
   "metadata": {
    "id": "ZZMGC6VNAT5e"
   },
   "source": [
    "Dans cette partie nous allons analyser en détail les relations entre les embeddings. En particulier, nous allons vérifier si les propriétés observées pour les relations capitales - pays sont généralisables à tous les types de relations.\n",
    "\n",
    "La relation capitale - pays est une relation sémantique, mais il existe aussi des relations syntaxiques, par exemple singulier - pluriel (onion - onions). Il nous faut donc vérifier si les embeddings SGNS encodent bien ces relations de la même manière pour tous les jetons (avec des vecteurs similaires) ou bien si les régularités trouvées précédemment sont un hasard.\n",
    "\n",
    "Pour cela, nous allons utiliser un jeu de données d'analogies sémantiques et syntaxiques séparées en plusieurs catégories (https://huggingface.co/datasets/tomasmcz/word2vec_analogy). La prochaine cellule charge ce jeu de données."
   ]
  },
  {
   "cell_type": "code",
   "execution_count": null,
   "metadata": {
    "colab": {
     "base_uri": "https://localhost:8080/"
    },
    "executionInfo": {
     "elapsed": 13865,
     "status": "ok",
     "timestamp": 1752650371268,
     "user": {
      "displayName": "Alexis Brissard",
      "userId": "01552848406770931061"
     },
     "user_tz": 240
    },
    "id": "5ZXA8l2TllsD",
    "outputId": "a5fe04e0-1653-46bf-d2ed-dec32bed8e8c"
   },
   "outputs": [],
   "source": [
    "# Define paths\n",
    "analogies_path = \"data/analogies/\"\n",
    "\n",
    "# Get all CSV files\n",
    "semantic_files = glob.glob(os.path.join(analogies_path, \"semantic\", \"*.csv\"))\n",
    "syntactic_files = glob.glob(os.path.join(analogies_path, \"syntactic\", \"*.csv\"))\n",
    "\n",
    "print(f\"Found {len(syntactic_files)} syntactic files:\")\n",
    "for f in syntactic_files:\n",
    "    print(f\"  {os.path.basename(f)}\")\n",
    "\n",
    "print(f\"\\nFound {len(semantic_files)} semantic files:\")\n",
    "for f in semantic_files:\n",
    "    print(f\"  {os.path.basename(f)}\")\n",
    "\n",
    "# Load and combine syntactic analogies\n",
    "syntactic_data = []\n",
    "for file in syntactic_files:\n",
    "    df = pd.read_csv(file)\n",
    "    df['category'] = os.path.basename(file).replace('.csv', '')\n",
    "    syntactic_data.append(df)\n",
    "\n",
    "syntactic_dataset = pd.concat(syntactic_data, ignore_index=True)\n",
    "\n",
    "# Load and combine semantic analogies\n",
    "semantic_data = []\n",
    "for file in semantic_files:\n",
    "    df = pd.read_csv(file)\n",
    "    df['category'] = os.path.basename(file).replace('.csv', '')\n",
    "    semantic_data.append(df)\n",
    "\n",
    "semantic_dataset = pd.concat(semantic_data, ignore_index=True)\n",
    "\n",
    "print(f\"\\nSyntactic dataset: {len(syntactic_dataset)} analogies\")\n",
    "print(f\"Semantic dataset: {len(semantic_dataset)} analogies\")"
   ]
  },
  {
   "cell_type": "markdown",
   "metadata": {
    "id": "qbI3Fl2uGYN2"
   },
   "source": [
    "**Q-4.1 (3 points) Affichez les 5 premières analogies de chaque catégorie.**"
   ]
  },
  {
   "cell_type": "code",
   "execution_count": null,
   "metadata": {
    "colab": {
     "base_uri": "https://localhost:8080/",
     "height": 1000
    },
    "executionInfo": {
     "elapsed": 552,
     "status": "ok",
     "timestamp": 1752650371827,
     "user": {
      "displayName": "Alexis Brissard",
      "userId": "01552848406770931061"
     },
     "user_tz": 240
    },
    "id": "ND9qIdkuGWjT",
    "outputId": "5ca4b81a-bc54-4e63-c8ef-b7090ab8c138"
   },
   "outputs": [],
   "source": [
    "### TODO ###\n",
    "\n",
    "\n",
    "### END TODO ###"
   ]
  },
  {
   "cell_type": "markdown",
   "metadata": {
    "id": "JZO-cnqBB_5q"
   },
   "source": [
    "**Q-4.2 (6 points) Créez une fonction utilisant le jeu de données et la fonction `analogy_annoy()` pour évaluer la qualité des relations au sein des embeddings.**\n",
    "\n",
    "La fonction prend en paramètres les embeddings à évaluer, le jeu de données et une variable $k$. Si le mot du dataset est dans les $k$ premiers exemples retournées par la fonction `analogy_annoy()`, la prediction est considérée comme correcte.\n",
    "\n",
    "Rappelez-vous d'appliquer les mêmes étapes de prétraitement que pour votre corpus d'entraînement. Si un des mots de l'analogie n'est pas présent dans les embeddings, vous devez passer l'exemple et le compter pour afficher le nombre d'exemple passés par catégories.\n",
    "\n",
    "La sortie est attendue sous la forme:\n",
    " ```\n",
    "category1     : accuracy (correct/total, skipped)\n",
    "category2     : accuracy (correct/total, skipped)\n",
    "category3     : accuracy (correct/total, skipped)\n",
    "...\n",
    "\n",
    "--------------------------------------------------\n",
    "OVERALL       : accuracy (correct/total, skipped)\n",
    "```"
   ]
  },
  {
   "cell_type": "code",
   "execution_count": null,
   "metadata": {
    "id": "lg5tZZpzllsE"
   },
   "outputs": [],
   "source": [
    "def evaluate_analogy_dataset(annoy_index, words_in_index, embeddings, dataset_df, k=5):\n",
    "    ### TODO ###\n",
    "\n",
    "    ### END TODO ###"
   ]
  },
  {
   "cell_type": "markdown",
   "metadata": {
    "id": "ZwcqY7TLGdtC"
   },
   "source": [
    "Vous pouvez tester votre fonction avec le code ci dessous. Une fois obtenue la sortie attendue, évaluez les embeddings SGNS et GloVE sur le dataset au complet (`sample_size = -1`)"
   ]
  },
  {
   "cell_type": "code",
   "execution_count": null,
   "metadata": {
    "colab": {
     "base_uri": "https://localhost:8080/"
    },
    "executionInfo": {
     "elapsed": 8419,
     "status": "ok",
     "timestamp": 1752650380314,
     "user": {
      "displayName": "Alexis Brissard",
      "userId": "01552848406770931061"
     },
     "user_tz": 240
    },
    "id": "dvjr_Fo-llsE",
    "outputId": "7d9dc23a-0df9-467a-dae9-9c30aa872d34"
   },
   "outputs": [],
   "source": [
    "sample_size = 100 #@param {type:\"integer\"}\n",
    "\n",
    "if sample_size != -1:\n",
    "  syntactic_sample = syntactic_dataset.head(sample_size)\n",
    "  semantic_sample = semantic_dataset.head(sample_size)\n",
    "else:\n",
    "  syntactic_sample = syntactic_dataset\n",
    "  semantic_sample = semantic_dataset\n",
    "\n",
    "print(\"\\n\" + \"=\"*60)\n",
    "print(\"SYNTACTIC ANALOGIES - SGNS EMBEDDINGS\")\n",
    "sgns_syntactic_results = evaluate_analogy_dataset(sgns_annoy_index, sgns_words_in_index, sgns_word_embeddings, syntactic_sample, k=5)\n",
    "\n",
    "print(\"\\n\" + \"=\"*60)\n",
    "print(\"SYNTACTIC ANALOGIES - GLOVE EMBEDDINGS\")\n",
    "glove_syntactic_results = evaluate_analogy_dataset(glove_annoy_index, glove_words_in_index, glove_embeddings, syntactic_sample, k=5)\n",
    "\n",
    "print(\"\\n\" + \"=\"*60)\n",
    "print(\"SEMANTIC ANALOGIES - SGNS EMBEDDINGS\")\n",
    "sgns_semantic_results = evaluate_analogy_dataset(sgns_annoy_index, sgns_words_in_index, sgns_word_embeddings, semantic_sample, k=5)\n",
    "\n",
    "print(\"\\n\" + \"=\"*60)\n",
    "print(\"SEMANTIC ANALOGIES - GLOVE EMBEDDINGS\")\n",
    "glove_semantic_results = evaluate_analogy_dataset(glove_annoy_index, glove_words_in_index, glove_embeddings, semantic_sample, k=5)"
   ]
  },
  {
   "cell_type": "markdown",
   "metadata": {
    "id": "TrokCENPHFpj"
   },
   "source": [
    "**Q-4.3 (3 points) Analysez les résultats obtenus par SGNS. Quelles relations sont les mieux représentées par les embeddings au niveau syntaxique et sémantique?**"
   ]
  },
  {
   "cell_type": "markdown",
   "metadata": {
    "id": "7zJDGVLRHY4N"
   },
   "source": [
    "**Q-4.4 (1 point) Entre SGNS et GloVe, quels embeddings semblent être de meilleure qualité ?**"
   ]
  },
  {
   "cell_type": "markdown",
   "metadata": {
    "id": "2StymA8yJHcG"
   },
   "source": [
    "**Q-4.5 (2 points) Peut on conclure que nos résultats initiaux sur l'arithmétiques des vecteurs sont généralisables ? I.e., Est ce que les relations entre les mots peuvent être représentées par des vecteurs dans l'espace latent ?**\n"
   ]
  },
  {
   "cell_type": "markdown",
   "metadata": {
    "id": "-CoRZBFQvn4Y"
   },
   "source": [
    "---\n",
    "## 5. Analyse de la géométrie des embeddings SGNS (15 points)"
   ]
  },
  {
   "cell_type": "markdown",
   "metadata": {
    "id": "G-h2jkK7MU2G"
   },
   "source": [
    "Dans cette section, nous allons analyser finement **la structure géométrique** des vecteurs appris par SGNS. L'objectif est d'explorer comment ces vecteurs s'organisent dans l’espace latent, et quelles propriétés émergent lors de leur apprentissage. Ainsi nous pourrons potentiellemnt expliquer les différences de performance avec GloVe constatées dans les autres parties du TP."
   ]
  },
  {
   "cell_type": "markdown",
   "metadata": {
    "id": "3vo-v8mvH1Fv"
   },
   "source": [
    "### 5.1 Séparation en fréquence des embeddings (2 points)\n",
    "**Q-5.1 (2 points) Regroupez les mots du vocabulaire en 4 catégories selon leur fréquence d’apparition.**\n",
    "\n",
    "Pour cela, utilisez les rangs dans le vocabulaire trié par fréquence décroissante :\n",
    "\n",
    "* `ultra_high` : mots de rang 0 à 99\n",
    "* `high` : mots de rang 100 à 499\n",
    "* `moderate` : mots de rang 500 à 4 999\n",
    "* `low` : mots de rang 5 000 à 29 999\n",
    "\n",
    "Affichez le nombre de mots dans chaque groupe pour vérifier la découpe.\n",
    "\n",
    "Ensuite, **échantillonnez 100 mots** dans chaque groupe de façon aléatoire, et stockez-les dans un dictionnaire nommé `freq_groups` au format suivant :\n",
    "\n",
    "```python\n",
    "{\n",
    "  'ultra_high': ['states', 's', 'one', ..., 'other'],             # 100 mots\n",
    "  'high': ['present', 'william', 'science', ..., 'george'],       # 100 mots\n",
    "  'moderate': ['jay', 'massive', 'solutions', ..., 'particles'],  # 100 mots\n",
    "  'low': ['bounded', 'gaines', 'metabolism', ..., 'lundy'],       # 100 mots\n",
    "}\n",
    "```\n",
    "\n",
    "Cela vous permettra ensuite de comparer les propriétés géométriques des vecteurs en fonction de leur fréquence.\n"
   ]
  },
  {
   "cell_type": "code",
   "execution_count": null,
   "metadata": {
    "colab": {
     "base_uri": "https://localhost:8080/"
    },
    "executionInfo": {
     "elapsed": 58,
     "status": "ok",
     "timestamp": 1752650380374,
     "user": {
      "displayName": "Alexis Brissard",
      "userId": "01552848406770931061"
     },
     "user_tz": 240
    },
    "id": "cN3tyQxtHtel",
    "outputId": "1ae9efa1-3888-40c6-f461-6c28d591e8a2"
   },
   "outputs": [],
   "source": [
    "random.seed(42) # pour la reproductibilité des résultats. Utilisez random.sample(...).\n",
    "\n",
    "### TODO ###\n",
    "\n",
    "### END TODO ###"
   ]
  },
  {
   "cell_type": "markdown",
   "metadata": {
    "id": "J_jCduTNGb5n"
   },
   "source": [
    "### 5.2 Alignement global des vecteurs de mots (13 points)"
   ]
  },
  {
   "cell_type": "markdown",
   "metadata": {
    "id": "scJWu4H7MU2I"
   },
   "source": [
    "Dans cette analyse, vous allez étudier l’orientation globale des vecteurs appris par SGNS.\n",
    "\n",
    "L’objectif est de déterminer si les vecteurs pointent dans des directions similaires, c’est-à-dire s’ils sont alignés avec un **axe dominant**. Pour cela, on analyse les **produits scalaires** entre chaque vecteur et un **vecteur moyen** $\\bar{v}$."
   ]
  },
  {
   "cell_type": "markdown",
   "metadata": {
    "id": "-00Bo0pnLLZC"
   },
   "source": [
    "**Q-5.2.1 (2 points) Pourquoi trace-t-on le produit scalaire avec le vecteur moyen ?**"
   ]
  },
  {
   "cell_type": "markdown",
   "metadata": {
    "id": "yLFiqstSt_MN"
   },
   "source": [
    "**Q-5.2.2 (4 points) Implémentez la fonction `plot_mean_product_density`.**\n",
    "\n",
    "Cette fonction trace la **densité des produits scalaires** entre les vecteurs de mots et un vecteur moyen $\\bar{v}$, pour chaque groupe de fréquence. La densité permet de visualiser la distribution des produits scalaires avec une courbe, plutôt que d'utiliser un histogramme par exemple. Vous pouvez obtenir la densité en utilisant la fonction `gaussian_kde` de `scipy.stats`.\n",
    "\n",
    "Elle prend en entrée :\n",
    "\n",
    "* `embeddings` : un dictionnaire {mot → vecteur}\n",
    "* `freq_groups` : le dictionnaire contenant les 100 mots de chaque groupe de fréquence\n",
    "* `title` : le titre du graphique\n",
    "* `normalize` : booléen, si `True` alors tous les vecteurs sont normalisés avant calcul\n",
    "* `mean_vector` : optionnel. Si un vecteur moyen est fourni, il sera utilisé tel quel. Sinon, il est calculé automatiquement à partir de tous les vecteurs de l’échantillon."
   ]
  },
  {
   "cell_type": "code",
   "execution_count": null,
   "metadata": {
    "id": "G0CdE60BGZTn"
   },
   "outputs": [],
   "source": [
    "def plot_mean_product_density(embeddings, freq_groups, title=\"Mean product to average vector\", normalize=True, mean_vector = np.array([])):\n",
    "    \"\"\"\n",
    "    Affiche une densité (KDE) des produits scalaires entre chaque vecteur et le vecteur moyen.\n",
    "    \"\"\"\n",
    "    ### TODO ###\n",
    "\n",
    "\n",
    "    ### for each freq group:###\n",
    "    #for group_name, word_list in freq_groups.items():\n",
    "\n",
    "    ### END TODO ###\n",
    "    x_range = np.linspace(dot_products.min() - 0.5, dot_products.max() + 0.5, 200)\n",
    "    plt.plot(x_range, gaussian_density(x_range), label=group_name)\n",
    "\n",
    "    if max(gaussian_density(x_range)) > y_max :\n",
    "          y_max = max(gaussian_density(x_range))\n",
    "\n",
    "    plt.vlines(x = 0, ymin=0, ymax=y_max, colors= \"black\")\n",
    "    plt.title(title)\n",
    "    plt.xlabel(\"Produit scalaire avec le vecteur moyen\")\n",
    "    plt.ylabel(\"Densité\")\n",
    "    plt.grid(True)\n",
    "    plt.legend()\n",
    "    plt.show()"
   ]
  },
  {
   "cell_type": "markdown",
   "metadata": {},
   "source": [
    "Nous allons maintenant appeler la fonction sur les embeddings SGNS et GloVe."
   ]
  },
  {
   "cell_type": "code",
   "execution_count": null,
   "metadata": {
    "colab": {
     "base_uri": "https://localhost:8080/",
     "height": 564
    },
    "executionInfo": {
     "elapsed": 264,
     "status": "ok",
     "timestamp": 1752650380646,
     "user": {
      "displayName": "Alexis Brissard",
      "userId": "01552848406770931061"
     },
     "user_tz": 240
    },
    "id": "W8ywyDqaJa5O",
    "outputId": "b7613a6c-c062-47a0-c372-b7ad2a52181b"
   },
   "outputs": [],
   "source": [
    "plot_mean_product_density(sgns_word_embeddings, freq_groups, title=\"SGNS word vectors: Cosine to mean\", normalize=True)"
   ]
  },
  {
   "cell_type": "code",
   "execution_count": null,
   "metadata": {
    "colab": {
     "base_uri": "https://localhost:8080/",
     "height": 564
    },
    "executionInfo": {
     "elapsed": 259,
     "status": "ok",
     "timestamp": 1752650380908,
     "user": {
      "displayName": "Alexis Brissard",
      "userId": "01552848406770931061"
     },
     "user_tz": 240
    },
    "id": "abPplmQ2JZnE",
    "outputId": "969e1d00-3fce-47b4-bdea-09508a906f88"
   },
   "outputs": [],
   "source": [
    "plot_mean_product_density(glove_embeddings, freq_groups, title=\"GloVe vectors: Cosine to mean\", normalize=True)"
   ]
  },
  {
   "cell_type": "markdown",
   "metadata": {
    "id": "g-yw_JrgmiAm"
   },
   "source": [
    "**Q-5.2.3 (4 points) Que peut-on déduire des résultats obtenus, en particulier sur la géométrie de l’espace latent our SGNS et GloVe?**\n",
    "\n",
    "\n",
    "**Q-5.2.4 (3 points) À quoi peut on s'attendre si on retire le vecteur moyen à tous les vecteurs de mot, pour SGNS et pour GloVe ?**"
   ]
  },
  {
   "cell_type": "markdown",
   "metadata": {
    "id": "CWRRdzIQoNPp"
   },
   "source": [
    "---\n",
    "## Conclusion (0 point)"
   ]
  },
  {
   "cell_type": "markdown",
   "metadata": {
    "id": "D_UPJOD2MU2R"
   },
   "source": [
    "À travers ces expériences, nous avons entraîné un modèle SGNS pour apprendre des embeddings de mots à partir d'un corpus de texte.\n",
    "\n",
    "Nous avons comparé ces embeddings à ceux de GloVe, en analysant leurs propriétés géométriques et sémantiques.\n",
    "\n",
    "Enfin, nous avons analysé plus en détails les relations sémantiques et syntaxiques capturées par les embeddings SGNS."
   ]
  },
  {
   "cell_type": "markdown",
   "metadata": {},
   "source": [
    "## Livrables\n",
    "Vous devez remettre votre notebook sur Moodle en ipynb et pdf sous forme de inf8460_TP1_grX_equipeY.zip (renommez X et Y selon votre groupe de laboratoire et votre numéro d'équipe) et sur Gradescope en pdf. Pour Gradescope vous devez associer les numéros de questions avec vos réponses dans le pdf grâce à l'outil que fournit Gradescope. Assurez-vous que votre PDF représente bien votre notebook sans problème de formatage. Un notebook mal généré en PDF ne sera pas évalué.\n",
    "\n",
    "\n",
    "## Évaluation \n",
    "Votre TP sera évalué selon les critères suivants :\n",
    "1. Exécution correcte du code et obtention des sorties attendues\n",
    "2. Réponses correctes aux questions d'analyse\n",
    "3. Qualité du code (noms significatifs, structure, performance, gestion d’exception, etc.)\n",
    "4. Commentaires clairs et informatifs"
   ]
  }
 ],
 "metadata": {
  "accelerator": "GPU",
  "colab": {
   "collapsed_sections": [
    "VTE4p_GIYeTl",
    "X9CqBWhEuyP2",
    "S-uUHiUBSrFw",
    "YnXh4vdE5wnR",
    "S-AZcN2L5b9J",
    "XB8oxWfhj2UJ",
    "NX1QS5308CXs",
    "140kDkzfs7eY",
    "9SovTUSxMGzq",
    "YqZDNKqtllsD",
    "CWRRdzIQoNPp"
   ],
   "gpuType": "T4",
   "provenance": [
    {
     "file_id": "1I96ozdaBRAy_-MIqZ35If0TPELCdv_G0",
     "timestamp": 1751297655670
    },
    {
     "file_id": "14HHIQZsGYxcWNOQkZpvH2tsR3vJV2tXo",
     "timestamp": 1751292407116
    }
   ],
   "toc_visible": true
  },
  "kernelspec": {
   "display_name": "venv",
   "language": "python",
   "name": "python3"
  },
  "language_info": {
   "codemirror_mode": {
    "name": "ipython",
    "version": 3
   },
   "file_extension": ".py",
   "mimetype": "text/x-python",
   "name": "python",
   "nbconvert_exporter": "python",
   "pygments_lexer": "ipython3",
   "version": "3.12.2"
  }
 },
 "nbformat": 4,
 "nbformat_minor": 1
}
